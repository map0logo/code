{
  "cells": [
    {
      "cell_type": "markdown",
      "metadata": {
        "id": "view-in-github",
        "colab_type": "text"
      },
      "source": [
        "<a href=\"https://colab.research.google.com/github/map0logo/code/blob/master/Cadenas_de_Markov_ejercicios.ipynb\" target=\"_parent\"><img src=\"https://colab.research.google.com/assets/colab-badge.svg\" alt=\"Open In Colab\"/></a>"
      ]
    },
    {
      "cell_type": "markdown",
      "metadata": {
        "id": "jCFg331iYoSv"
      },
      "source": [
        "#**Ejemplos**\n",
        "\n",
        "##**Ejemplo 5.1** \n",
        "\n",
        "Un agricultor usa un tractor viejo. El tractor suele estar en el taller de reparación, pero siempre se tarda solo un día en volver a ponerlo en marcha. El primer día fuera de la tienda siempre funciona, pero en cualquier día a partir de entonces, independientemente de su anterior historial, hay un 10% de posibilidades de que no funcione y, por lo tanto, sea enviado de vuelta a la tienda. Sean $X_0,X_1, \\dots$ variables aleatorias que denotan la condición diaria del tractor, donde uno denota la condición de trabajo y cero denota la condición fallida. En otras palabras, $X_n = 1$ denota que el tractor está trabajando el día n y Xn = 0 indica que está en el taller de reparaciones el día n. Así, $X_0,X_1, \\dots$ es una cadena de Markov con espacio de estado E = {0,1} y con matriz de Markov"
      ]
    },
    {
      "cell_type": "code",
      "execution_count": null,
      "metadata": {
        "id": "oHV3ii_MbVOB"
      },
      "outputs": [],
      "source": [
        "#Importamos \"numpy\"\n",
        "import numpy as np\n"
      ]
    },
    {
      "cell_type": "code",
      "execution_count": null,
      "metadata": {
        "colab": {
          "base_uri": "https://localhost:8080/"
        },
        "id": "Q6L5eSncbtBy",
        "outputId": "40a079aa-5337-4d07-cd1f-63b4568c4d28"
      },
      "outputs": [
        {
          "name": "stdout",
          "output_type": "stream",
          "text": [
            "[[0.  1. ]\n",
            " [0.1 0.9]]\n"
          ]
        }
      ],
      "source": [
        "#Creamos la matriz\n",
        "p = np.matrix([[0, 1], [0.1, 0.9]])\n",
        "print(p)"
      ]
    },
    {
      "cell_type": "markdown",
      "metadata": {
        "id": "yimkf7KZWxOX"
      },
      "source": [
        "###**Comentario** \n",
        "¿Cómo puedo agregar en la matriz los nombres de los estados, en este caso seria \"1\" cuando el tractor esta en funcionamiento y \"0\" cuando esta en el taller?. \n",
        "\n",
        "¿Cómo puedo crear el diagrama de los estados?\n"
      ]
    },
    {
      "cell_type": "markdown",
      "metadata": {
        "id": "q2Asfs1RTYA3"
      },
      "source": [
        "##**Ejemplo 5.2**\n",
        "Un vendedor vive en el pueblo **'a'** y es responsable de los pueblos **'a'**, **'b'** y **'C'**. Cada semana debe visitar una ciudad diferente. Cuando está en su ciudad natal, no importa qué ciudad visite a continuación, así que lanza una moneda y si sale cara va a **'b'** y si sale cruz va a **'c'**. Sin embargo, después de pasar una semana fuera de casa, tiene una ligera preferencia por ir a casa, así que cuando está en las ciudades **'b'** o **'c'** lanza dos monedas. Si ocurren dos caras, entonces se va al otro pueblo; de lo contrario él va a **'a'**. Los pueblos sucesivos que visita forman una cadena de Markov con estado espacio E = {a,b,c} donde la variable aleatoria Xn es igual a **a**, **b** o **c** según su ubicación durante la semana n. La matriz de Markov asociada es:\n",
        "\n",
        "\n",
        "\n",
        "\n",
        "\n",
        "\n",
        "\n",
        "\n"
      ]
    },
    {
      "cell_type": "code",
      "execution_count": null,
      "metadata": {
        "id": "9sWnIAZ0VL08"
      },
      "outputs": [],
      "source": [
        "#Importamos \"numpy\"\n",
        "import numpy as np"
      ]
    },
    {
      "cell_type": "code",
      "execution_count": null,
      "metadata": {
        "colab": {
          "base_uri": "https://localhost:8080/"
        },
        "id": "zPp6d6vmVkjx",
        "outputId": "7cc23020-fd3d-45ea-df45-840b9c05e193"
      },
      "outputs": [
        {
          "name": "stdout",
          "output_type": "stream",
          "text": [
            "[[0.   0.5  0.5 ]\n",
            " [0.75 0.   0.25]\n",
            " [0.75 0.25 0.  ]]\n"
          ]
        }
      ],
      "source": [
        "#Creamos la matriz de transiciones de los estados\n",
        "p = np.matrix([[0, 0.50, 0.50], [0.75, 0, 0.25], [0.75, 0.25, 0]])\n",
        "print(p)"
      ]
    },
    {
      "cell_type": "markdown",
      "metadata": {
        "id": "ZEpjI-oXYu99"
      },
      "source": [
        "###**Comentario** \n",
        "¿Cada ves que se ejecuta una matriz diferente se debe importar la libreria \"numpy\" o con hacerlo solo al principio me servira para cualquier array que desee crear?.\n"
      ]
    },
    {
      "cell_type": "markdown",
      "metadata": {
        "id": "UQBXQr6iX8xA"
      },
      "source": [
        "##**Ejemplo 5.3**\n",
        "Sea X = {Xn;n = 0,1,···} una cadena de Markov con espacio de estado E = {1,2,3,4} y probabilidades de transición dadas por\n",
        "\n"
      ]
    },
    {
      "cell_type": "code",
      "execution_count": null,
      "metadata": {
        "id": "SAUP5IQ9YnXE"
      },
      "outputs": [],
      "source": [
        "#Importamos \"numpy\"\n",
        "import numpy as np"
      ]
    },
    {
      "cell_type": "code",
      "execution_count": null,
      "metadata": {
        "colab": {
          "base_uri": "https://localhost:8080/"
        },
        "id": "mMnWti_9aOfn",
        "outputId": "5ab4353c-e441-45df-e549-aefec97e3d47"
      },
      "outputs": [
        {
          "name": "stdout",
          "output_type": "stream",
          "text": [
            "[[1.  0.  0.  0. ]\n",
            " [0.  0.3 0.7 0. ]\n",
            " [0.  0.5 0.5 0. ]\n",
            " [0.2 0.  0.1 0.7]]\n"
          ]
        }
      ],
      "source": [
        "#Creamos la matriz con las probabilidades de transiciones de los estados\n",
        "p = np.matrix([[1, 0, 0, 0], [0, 0.3, 0.7, 0], [0, 0.5, 0.5, 0], [0.2, 0, 0.1, 0.7]])\n",
        "print(p)"
      ]
    },
    {
      "cell_type": "markdown",
      "metadata": {
        "id": "qzlsK3tIbfrB"
      },
      "source": [
        "#**Ejercicios**\n",
        "\n",
        "##**Ejercicio 5.1** \n",
        "Joe y Pete tienen cada uno dos centavos en sus bolsillos. Han decidido emparejar centavos; es decir, cada uno tomará uno de sus propios centavos y los lanzará. Si los centavos coinciden (dos caras o dos cruces), Joe obtiene el centavo de Pete; si los centavos no coinciden, Pete recibe el centavo de Joe. Seguirán repitiendo el juego hasta que uno de ellos tenga cuatro centavos, y el otro este quebrado. Aunque no se dan cuenta, los cuatro centavos están sesgados. La probabilidad de sacar una cara es 0.6 y la probabilidad de sacar cruz es de 0.4. Sea X una cadena de Markov donde Xn denota la cantidad que Joe tiene después de la enésima jugada del juego.\n",
        "\n",
        "\n",
        "a.   Dé la matriz de Markov para X.\n",
        "\n",
        "\n",
        "\n",
        "\n"
      ]
    },
    {
      "cell_type": "code",
      "execution_count": null,
      "metadata": {
        "id": "sfyaj5APfYmi"
      },
      "outputs": [],
      "source": [
        "#Importamos \"numpy\"\n",
        "import numpy as np"
      ]
    },
    {
      "cell_type": "code",
      "execution_count": null,
      "metadata": {
        "colab": {
          "base_uri": "https://localhost:8080/"
        },
        "id": "FkJcmGCEb4Rb",
        "outputId": "de4e1863-7959-4977-c484-e81a558510bf"
      },
      "outputs": [
        {
          "name": "stdout",
          "output_type": "stream",
          "text": [
            "[[1.  0.  0.  0.  0. ]\n",
            " [0.5 0.  0.5 0.  0. ]\n",
            " [0.  0.5 0.  0.5 0. ]\n",
            " [0.  0.  0.5 0.  0.5]\n",
            " [0.  0.  0.  0.  1. ]]\n"
          ]
        }
      ],
      "source": [
        "#Creamos la matriz con las probabilidades de transiciones de los estados\n",
        "p = np.matrix([[1, 0, 0, 0, 0], [0.5, 0, 0.5, 0, 0], [0, 0.5, 0, 0.5, 0], [0, 0, 0.5, 0, 0.5], [0, 0, 0, 0, 1]])\n",
        "print(p)"
      ]
    },
    {
      "cell_type": "markdown",
      "metadata": {
        "id": "nSZaY9lOdy-P"
      },
      "source": [
        "b. ¿Cuál es la probabilidad de que Joe tenga cuatro centavos después del segundo lanzamiento?"
      ]
    },
    {
      "cell_type": "code",
      "execution_count": null,
      "metadata": {
        "colab": {
          "base_uri": "https://localhost:8080/"
        },
        "id": "6gNAuDueHVF0",
        "outputId": "1c4a4087-420d-4ee0-d400-667c92c6bd3a"
      },
      "outputs": [
        {
          "name": "stdout",
          "output_type": "stream",
          "text": [
            "[[1.   0.   0.   0.   0.  ]\n",
            " [0.5  0.25 0.   0.25 0.  ]\n",
            " [0.25 0.   0.5  0.   0.25]\n",
            " [0.   0.25 0.   0.25 0.5 ]\n",
            " [0.   0.   0.   0.   1.  ]]\n"
          ]
        }
      ],
      "source": [
        "#Creamos la matriz de potencia 2\n",
        "a = np.dot(p, p)\n",
        "print(a)"
      ]
    },
    {
      "cell_type": "markdown",
      "metadata": {
        "id": "9ixjz7XjIcSs"
      },
      "source": [
        "Usando la propiedad 5.1, se tiene el elemento 2−4 de de p2 es 0.25 y, por lo tanto, hay una probabilidad de 0.25 de que Joe tenga cuatro centavos después del segundo lanzamiento."
      ]
    },
    {
      "cell_type": "markdown",
      "metadata": {
        "id": "q9l7ykfNJm1U"
      },
      "source": [
        "**c.** ¿Cuál es la probabilidad de que Pete esté arruinado después de tres lanzamientos?"
      ]
    },
    {
      "cell_type": "code",
      "execution_count": null,
      "metadata": {
        "colab": {
          "base_uri": "https://localhost:8080/"
        },
        "id": "qD5tkxKgJ4FS",
        "outputId": "f9f532b6-7327-45a1-8e36-079c7a3cb00d"
      },
      "outputs": [
        {
          "name": "stdout",
          "output_type": "stream",
          "text": [
            "[[1.    0.    0.    0.    0.   ]\n",
            " [0.625 0.    0.25  0.    0.125]\n",
            " [0.25  0.25  0.    0.25  0.25 ]\n",
            " [0.125 0.    0.25  0.    0.625]\n",
            " [0.    0.    0.    0.    1.   ]]\n"
          ]
        }
      ],
      "source": [
        "#Creamos la matriz de potencia 3\n",
        "b = np.dot(p, a)\n",
        "print(b)"
      ]
    },
    {
      "cell_type": "markdown",
      "metadata": {
        "id": "2Pu8U7p8JniA"
      },
      "source": [
        "Usando la propiedad 5.1, se tiene el elemento 2-0 de p3 es de 0, ya que los posibles casos que se pueden dar después de tres lanzamientos son: que el primero gane, el segundo pierda y el tercero pierda ó que el primer lanzamiento pierda, en el segundo gane y el tercero pierda. Es decir, después de tres lanzamientos Pete no quedara arruinado "
      ]
    },
    {
      "cell_type": "markdown",
      "metadata": {
        "id": "ZrLcCFKiJnyO"
      },
      "source": [
        "**d.** ¿Cuál es la probabilidad de que el juego termine antes del tercer lanzamiento?"
      ]
    },
    {
      "cell_type": "markdown",
      "metadata": {
        "id": "1R27tbf3SS56"
      },
      "source": [
        "**Comentario:** ¿En esta pregunta se deben suar las probabilidades de que los dos jugadores ganen antes del tercer lanzamiento?"
      ]
    },
    {
      "cell_type": "markdown",
      "metadata": {
        "id": "zB1jChOEMxeM"
      },
      "source": [
        "**e.** ¿Cuál es la cantidad esperada de dinero que tendrá Pete después de dos lanzamientos?"
      ]
    },
    {
      "cell_type": "code",
      "execution_count": null,
      "metadata": {
        "colab": {
          "base_uri": "https://localhost:8080/"
        },
        "id": "fhXDuRmVM4wj",
        "outputId": "6333ead6-7636-43a8-e020-e5548ed24866"
      },
      "outputs": [
        {
          "name": "stdout",
          "output_type": "stream",
          "text": [
            "1.5\n"
          ]
        }
      ],
      "source": [
        "#Se calcula la cantidad esperada de dinero que tendrá Pete después de dos lanzamientos\n",
        "c = (0.25*2) + (0.25*4)\n",
        "print(c)"
      ]
    },
    {
      "cell_type": "markdown",
      "metadata": {
        "id": "nmLhePs2OB-V"
      },
      "source": [
        "Usando la propiedad 5.2 se espera que Pete después de dos lanzamientos tenga aproximadamente 2 centavos."
      ]
    },
    {
      "cell_type": "markdown",
      "metadata": {
        "id": "6x_3ViltOdbF"
      },
      "source": [
        "**f.** ¿Cuál es la probabilidad de que Pete termine arruinado?"
      ]
    },
    {
      "cell_type": "code",
      "execution_count": null,
      "metadata": {
        "colab": {
          "base_uri": "https://localhost:8080/"
        },
        "id": "oUZQXuKpReiT",
        "outputId": "aaf42f98-93d7-470b-94e8-b318f373407e"
      },
      "outputs": [
        {
          "name": "stdout",
          "output_type": "stream",
          "text": [
            "[[1.    0.    0.    0.    0.   ]\n",
            " [0.625 0.125 0.    0.125 0.125]\n",
            " [0.375 0.    0.25  0.    0.375]\n",
            " [0.125 0.125 0.    0.125 0.625]\n",
            " [0.    0.    0.    0.    1.   ]]\n"
          ]
        }
      ],
      "source": [
        "#Creamos la matriz de potencia 4\n",
        "d = np.dot(p, b)\n",
        "print(d)"
      ]
    },
    {
      "cell_type": "code",
      "execution_count": null,
      "metadata": {
        "colab": {
          "base_uri": "https://localhost:8080/"
        },
        "id": "M7Ib_enbPArX",
        "outputId": "7378df8a-023a-4aba-90c5-2797a203da47"
      },
      "outputs": [
        {
          "name": "stdout",
          "output_type": "stream",
          "text": [
            "0.625\n"
          ]
        }
      ],
      "source": [
        "#Se calcula la probabilidad de que Pete quede arruinado\n",
        "e = 0.25 + 0.375\n",
        "print(e)"
      ]
    },
    {
      "cell_type": "markdown",
      "metadata": {
        "id": "MfzEJe7RQA1U"
      },
      "source": [
        "Usando la propiedad 5.1, se obtiene que la probabilidad de que Pete quede arruinado es de 0.625"
      ]
    },
    {
      "cell_type": "markdown",
      "metadata": {
        "id": "iiH7ZpxtQdNA"
      },
      "source": [
        "**g.** ¿Cuál es el número esperado de lanzamientos hasta que termine el juego?"
      ]
    },
    {
      "cell_type": "code",
      "execution_count": null,
      "metadata": {
        "colab": {
          "base_uri": "https://localhost:8080/"
        },
        "id": "F_4ClSrRQlN9",
        "outputId": "7f4b2018-7df5-42c4-dc38-fc180a0d02e5"
      },
      "outputs": [
        {
          "name": "stdout",
          "output_type": "stream",
          "text": [
            "2.0\n"
          ]
        }
      ],
      "source": [
        "#Se calcula el número esperado de lanzamientos hasta que termine el juego\n",
        "f = (0.25*2) + (0.375*4)\n",
        "print(f)"
      ]
    },
    {
      "cell_type": "markdown",
      "metadata": {
        "id": "ACT70PGQQ2tD"
      },
      "source": [
        "Usando la propiedad 5.2 se tiene que el número esperado de lanzamientos hasta que termine el juego es de 2."
      ]
    },
    {
      "cell_type": "markdown",
      "metadata": {
        "id": "FtvW7AHbnrnB"
      },
      "source": [
        "##**Ejercicio 5.2.**\n",
        "Al comienzo de cada semana, la condición de una máquina se determina midiendo la cantidad de corriente eléctrica que utiliza. Según su lectura de amperaje, la máquina se clasifica en uno de los siguientes cuatro estados: bajo, medio,alto, falla. \n",
        "\n",
        "Una máquina en el estado bajo tiene una probabilidad de $0.05$, $0.03$ y $0.02$ de\n",
        "estar en el estado medio, alto o fallido, respectivamente, al comienzo de la próxima semana.\n",
        "\n",
        "Una máquina en el estado medio tiene una probabilidad de 0.09 y 0.06 de estar en el estado alto o fallido, respectivamente, al comienzo de la próxima semana (no puede, por sí mismo, ir al estado bajo).\n",
        "\n",
        "Y, una máquina en el estado alto tiene una probabilidad de 0.1 de ser\n",
        "en el estado fallido al comienzo de la próxima semana (no puede, por sí mismo, ir al bajo o estado medio). \n",
        "\n",
        "Si una máquina está en estado de falla al comienzo de una semana, la reparación es inmediatamente comenzado en la máquina para que (con probabilidad 1) esté en el nivel de estado bajo al comienzo de la semana siguiente. Sea X una cadena de Markov donde $X_n$ es el estado de la máquina al inicio de la semana n.\n",
        "\n"
      ]
    },
    {
      "cell_type": "markdown",
      "metadata": {
        "id": "BxSPHsnXpkPN"
      },
      "source": [
        "**a.** Dé la matriz de Markov para X."
      ]
    },
    {
      "cell_type": "markdown",
      "metadata": {
        "id": "ljk0GxxO-f9V"
      },
      "source": [
        "Se definen los estados `{\"bajo\", \"medio\", \"alto\", \"fallo\"}`"
      ]
    },
    {
      "cell_type": "code",
      "execution_count": null,
      "metadata": {
        "id": "ZoViGnI4peY8"
      },
      "outputs": [],
      "source": [
        "#Importamos \"numpy\"\n",
        "import numpy as np"
      ]
    },
    {
      "cell_type": "code",
      "execution_count": null,
      "metadata": {
        "colab": {
          "base_uri": "https://localhost:8080/"
        },
        "id": "gW9LQ27qgdmy",
        "outputId": "e211e56e-c46a-4ad2-f4bc-9075274066b4"
      },
      "outputs": [
        {
          "name": "stdout",
          "output_type": "stream",
          "text": [
            "[[0.9  0.05 0.03 0.02]\n",
            " [0.   0.85 0.09 0.06]\n",
            " [0.   0.   0.9  0.1 ]\n",
            " [1.   0.   0.   0.  ]]\n"
          ]
        }
      ],
      "source": [
        "#Creamos la matriz de transiciones de los estados\n",
        "p = np.matrix([[0.9, 0.05, 0.03, 0.02], [0, 0.85, 0.09, 0.06], [0, 0, 0.9, 0.1], [1, 0, 0, 0]])\n",
        "print(p)"
      ]
    },
    {
      "cell_type": "markdown",
      "metadata": {
        "id": "sM1sOB8nhwtC"
      },
      "source": [
        "**b.** Una máquina nueva siempre arranca en el estado bajo. ¿Cuál es la probabilidad de que la máquina está en estado de falla tres semanas después de estar nueva?"
      ]
    },
    {
      "cell_type": "code",
      "execution_count": null,
      "metadata": {
        "colab": {
          "base_uri": "https://localhost:8080/"
        },
        "id": "EJ2ZfD9niJNY",
        "outputId": "96c69cc0-297b-48d3-8aa2-6c5ef94ed28a"
      },
      "outputs": [
        {
          "name": "stdout",
          "output_type": "stream",
          "text": [
            "[[0.771    0.115875 0.085425 0.0277  ]\n",
            " [0.114    0.617125 0.208575 0.0603  ]\n",
            " [0.18     0.005    0.732    0.083   ]\n",
            " [0.83     0.0875   0.0585   0.024   ]]\n"
          ]
        }
      ],
      "source": [
        "#Creamos la matriz de potencia 3\n",
        "b = np.dot(p, np.dot(p, p))\n",
        "print(b)"
      ]
    },
    {
      "cell_type": "code",
      "execution_count": null,
      "metadata": {
        "colab": {
          "base_uri": "https://localhost:8080/"
        },
        "id": "8CHPP20p8K-k",
        "outputId": "57ae40ab-3c64-4485-e51e-0b2448e26b10"
      },
      "outputs": [
        {
          "data": {
            "text/plain": [
              "matrix([[0.83  , 0.0875, 0.0585, 0.024 ],\n",
              "        [0.06  , 0.7225, 0.1575, 0.06  ],\n",
              "        [0.1   , 0.    , 0.81  , 0.09  ],\n",
              "        [0.9   , 0.05  , 0.03  , 0.02  ]])"
            ]
          },
          "execution_count": 22,
          "metadata": {},
          "output_type": "execute_result"
        }
      ],
      "source": [
        "p @ p"
      ]
    },
    {
      "cell_type": "code",
      "execution_count": null,
      "metadata": {
        "colab": {
          "base_uri": "https://localhost:8080/"
        },
        "id": "xPfHYF9I57OO",
        "outputId": "824e7819-370b-49e4-9a1f-4942ef81d447"
      },
      "outputs": [
        {
          "data": {
            "text/plain": [
              "matrix([[0.771   , 0.115875, 0.085425, 0.0277  ],\n",
              "        [0.114   , 0.617125, 0.208575, 0.0603  ],\n",
              "        [0.18    , 0.005   , 0.732   , 0.083   ],\n",
              "        [0.83    , 0.0875  , 0.0585  , 0.024   ]])"
            ]
          },
          "execution_count": 20,
          "metadata": {},
          "output_type": "execute_result"
        }
      ],
      "source": [
        "p @ p @ p"
      ]
    },
    {
      "cell_type": "markdown",
      "metadata": {
        "id": "CcIHyP7_zzzL"
      },
      "source": [
        "La probabilidad de que la máquina se encuentre en estado de falla después de tres semana de estar nueva es de 0.0413."
      ]
    },
    {
      "cell_type": "markdown",
      "metadata": {
        "id": "xZD5nshZ01IE"
      },
      "source": [
        "**c.** ¿Cuál es la probabilidad de que una máquina tenga al menos una falla tres semanas después de estar nueva?"
      ]
    },
    {
      "cell_type": "code",
      "execution_count": null,
      "metadata": {
        "colab": {
          "base_uri": "https://localhost:8080/"
        },
        "id": "Ss5BkLo719vW",
        "outputId": "d38f2ced-b761-46df-de60-525e5b768c1c"
      },
      "outputs": [
        {
          "data": {
            "text/plain": [
              "0.9587"
            ]
          },
          "execution_count": 4,
          "metadata": {},
          "output_type": "execute_result"
        }
      ],
      "source": [
        "#Calculamos la probabilidad de que la máquina tenga al menos una falla tres semanas después de estar nueva\n",
        "c=1-0.0413\n",
        "c"
      ]
    },
    {
      "cell_type": "code",
      "execution_count": null,
      "metadata": {
        "colab": {
          "base_uri": "https://localhost:8080/"
        },
        "id": "W30qkMQZFLi_",
        "outputId": "b6232d5b-359e-4b91-9679-db4f84be6faf"
      },
      "outputs": [
        {
          "data": {
            "text/plain": [
              "0.0717"
            ]
          },
          "execution_count": 24,
          "metadata": {},
          "output_type": "execute_result"
        }
      ],
      "source": [
        "p2 = (p @ p)\n",
        "p3 = (p2 @ p)\n",
        "p[0,3] + p2[0, 3] + p3[0, 3]"
      ]
    },
    {
      "cell_type": "markdown",
      "metadata": {
        "id": "8g7tc2kx81GU"
      },
      "source": [
        "La probabilidad de que la máquina tenga al menos una falla tres semanas después de estar nueva es de 0.9587"
      ]
    },
    {
      "cell_type": "markdown",
      "metadata": {
        "id": "eBCrYjOT9Em4"
      },
      "source": [
        "**d.** En promedio, ¿cuántas semanas al año está funcionando la máquina?"
      ]
    },
    {
      "cell_type": "code",
      "execution_count": null,
      "metadata": {
        "colab": {
          "base_uri": "https://localhost:8080/"
        },
        "id": "roMG9Gfe9SW0",
        "outputId": "c50dca3f-36c1-4324-8165-6e380c379c28"
      },
      "outputs": [
        {
          "data": {
            "text/plain": [
              "matrix([[-0.1 ,  0.  ,  0.  ,  1.  ],\n",
              "        [ 0.05, -0.15,  0.  ,  0.  ],\n",
              "        [ 0.03,  0.09, -0.1 ,  0.  ],\n",
              "        [ 1.  ,  1.  ,  1.  ,  1.  ]])"
            ]
          },
          "execution_count": 35,
          "metadata": {},
          "output_type": "execute_result"
        }
      ],
      "source": [
        "q = p.T - np.eye(p.shape[1])\n",
        "q[3, :] = np.ones(q.shape[1])\n",
        "q"
      ]
    },
    {
      "cell_type": "code",
      "execution_count": null,
      "metadata": {
        "colab": {
          "base_uri": "https://localhost:8080/"
        },
        "id": "t5aNBLqjH_m7",
        "outputId": "9bf005a9-256d-44cf-d384-8f99efecfd3a"
      },
      "outputs": [
        {
          "data": {
            "text/plain": [
              "array([0., 0., 0., 1.])"
            ]
          },
          "execution_count": 36,
          "metadata": {},
          "output_type": "execute_result"
        }
      ],
      "source": [
        "b = np.zeros(q.shape[1])\n",
        "b[q.shape[1] - 1] = 1\n",
        "b"
      ]
    },
    {
      "cell_type": "code",
      "execution_count": null,
      "metadata": {
        "colab": {
          "base_uri": "https://localhost:8080/"
        },
        "id": "5Jfx2RZXHU-3",
        "outputId": "151654f4-f2f8-425f-a9ca-10f1c15228c7"
      },
      "outputs": [
        {
          "data": {
            "text/plain": [
              "array([0.49180328, 0.16393443, 0.29508197, 0.04918033])"
            ]
          },
          "execution_count": 38,
          "metadata": {},
          "output_type": "execute_result"
        }
      ],
      "source": [
        "pi = np.linalg.solve(q, b)\n",
        "pi"
      ]
    },
    {
      "cell_type": "code",
      "execution_count": null,
      "metadata": {
        "colab": {
          "base_uri": "https://localhost:8080/"
        },
        "id": "Wl1p_98QKtCd",
        "outputId": "e1381ccb-7143-4d91-ce28-9e416f591f8a"
      },
      "outputs": [
        {
          "data": {
            "text/plain": [
              "49.442622950819676"
            ]
          },
          "execution_count": 39,
          "metadata": {},
          "output_type": "execute_result"
        }
      ],
      "source": [
        "52 * (1 - pi[3])"
      ]
    },
    {
      "cell_type": "markdown",
      "metadata": {
        "id": "p6PXbRiAJTOW"
      },
      "source": [
        "**e.** Cada semana que la máquina está en estado bajo, se obtiene una ganancia de $1,000. \n",
        "\n",
        "cada semana que la máquina está en estado medio se obtiene una ganancia de $500\n",
        "\n",
        "cada semana que la máquina está en el estado alto, se realiza una ganancia de $400; \n",
        "\n",
        "y la semana en el que se arregla una falla, se incurre en un costo de $700.\n",
        "\n",
        "¿Cuál es el promedio de la ganancia por semana realizada por la máquina a largo plazo?"
      ]
    },
    {
      "cell_type": "code",
      "execution_count": null,
      "metadata": {
        "colab": {
          "background_save": true,
          "base_uri": "https://localhost:8080/"
        },
        "id": "74yXKArKKjFf",
        "outputId": "7f2ebcda-9f3d-4d55-a0ae-5bcfb2f61ac0"
      },
      "outputs": [
        {
          "data": {
            "text/plain": [
              "657.3770491803281"
            ]
          },
          "execution_count": null,
          "metadata": {},
          "output_type": "execute_result"
        }
      ],
      "source": [
        "#Calculamos el promedio de la ganancia por semana realizada por la máquina a largo plazo\n",
        "f = np.array([1000, 500, 400, -700])\n",
        "np.sum(f * pi * 52)"
      ]
    },
    {
      "cell_type": "markdown",
      "metadata": {
        "id": "AcxLT4UvTL2Z"
      },
      "source": [
        "El promedio de la ganancia por semana realizada por la máquina a largo plazo es de $863.29"
      ]
    },
    {
      "cell_type": "markdown",
      "metadata": {
        "id": "w506nOZQVN9A"
      },
      "source": [
        "**f.** Se ha hecho una sugerencia para cambiar la política de mantenimiento de la máquina. Si al comienzo de una semana la máquina se encuentra en estado alto, la máquina se tomará fuera de servicio y reparado para que a principios de la próxima semana vuelva a estar en el estado bajo. Cuando se realiza una reparación debido a que la máquina está en estado alto en su lugar de un estado fallido, se incurre en un costo de $600. ¿Vale la pena esta nueva política?"
      ]
    },
    {
      "cell_type": "code",
      "execution_count": null,
      "metadata": {
        "colab": {
          "base_uri": "https://localhost:8080/"
        },
        "id": "hYltuIeMV4Ws",
        "outputId": "d49b71b7-fa4e-44a4-d917-2d9c5b694cf3"
      },
      "outputs": [
        {
          "data": {
            "text/plain": [
              "588.06"
            ]
          },
          "execution_count": 6,
          "metadata": {},
          "output_type": "execute_result"
        }
      ],
      "source": [
        "#Calculo de la nueva política de mantenimiento de la máquina aplicada \n",
        "f=0.9801*600\n",
        "f"
      ]
    },
    {
      "cell_type": "markdown",
      "metadata": {
        "id": "55oJIkjxZ19I"
      },
      "source": [
        "La nueva política no es favorable ya que los costos de mantenimiento se elevarian en $588.6"
      ]
    },
    {
      "cell_type": "markdown",
      "metadata": {
        "id": "fJMxxzNeZyVF"
      },
      "source": [
        "###**Ejercicio 5.10** \n",
        "Sea X una cadena de Markov con espacio de estado {a,b,c} y probabilidades de transición\n",
        "dada por:\n",
        "\n",
        "![imagen.png](data:image/png;base64,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)\n",
        "\n"
      ]
    },
    {
      "cell_type": "code",
      "execution_count": null,
      "metadata": {
        "id": "RoBDaQcAjwjO"
      },
      "outputs": [],
      "source": [
        "#Importamos \"numpy\"\n",
        "import numpy as np"
      ]
    },
    {
      "cell_type": "code",
      "execution_count": null,
      "metadata": {
        "colab": {
          "base_uri": "https://localhost:8080/"
        },
        "id": "36iftTgThxqU",
        "outputId": "0da95e38-c0df-47c7-b7ab-4e9b69f551e5"
      },
      "outputs": [
        {
          "name": "stdout",
          "output_type": "stream",
          "text": [
            "[[0.3 0.4 0.3]\n",
            " [1.  0.  0. ]\n",
            " [0.  0.3 0.7]]\n"
          ]
        }
      ],
      "source": [
        "#Matriz de probabilidades\n",
        "P = np.matrix([[0.3, 0.4, 0.3], [1.0, 0, 0], [0, 0.3, 0.7]])\n",
        "print(P)"
      ]
    },
    {
      "cell_type": "markdown",
      "metadata": {
        "id": "MT0IRk-pcNKf"
      },
      "source": [
        "**a.** ¿Cuál es la Pr{X2 = a|X1 = b}?"
      ]
    },
    {
      "cell_type": "code",
      "execution_count": null,
      "metadata": {
        "colab": {
          "base_uri": "https://localhost:8080/"
        },
        "id": "YFQBej-AddHK",
        "outputId": "29587226-07d3-4a46-bc82-5fbffe3aa591"
      },
      "outputs": [
        {
          "name": "stdout",
          "output_type": "stream",
          "text": [
            "[[0.49 0.21 0.3 ]\n",
            " [0.3  0.4  0.3 ]\n",
            " [0.3  0.21 0.49]]\n"
          ]
        }
      ],
      "source": [
        "#Creamos la matriz de potencia 2\n",
        "A = np.dot(P, P)\n",
        "print(A)"
      ]
    },
    {
      "cell_type": "markdown",
      "metadata": {
        "id": "CImL-ztYkNti"
      },
      "source": [
        "La Pr{X2 = a|X1 = b}=0.3"
      ]
    },
    {
      "cell_type": "markdown",
      "metadata": {
        "id": "MySYGhSTkiVJ"
      },
      "source": [
        "**b.** ¿Cuál es la Pr{X2 = a|X1 = b,X0 = c}?"
      ]
    },
    {
      "cell_type": "code",
      "execution_count": null,
      "metadata": {
        "colab": {
          "base_uri": "https://localhost:8080/"
        },
        "id": "X36sQQwXkylx",
        "outputId": "07812468-fc03-4ffe-b60c-5b6775b6918d"
      },
      "outputs": [
        {
          "data": {
            "text/plain": [
              "0.09"
            ]
          },
          "execution_count": 10,
          "metadata": {},
          "output_type": "execute_result"
        }
      ],
      "source": [
        "#Calculamos la probabilidad\n",
        "B = 0.3*0.3\n",
        "B"
      ]
    },
    {
      "cell_type": "markdown",
      "metadata": {
        "id": "pig0NBR1osJz"
      },
      "source": [
        "La Pr{X2 = a|X1 = b,X0 = c}= Pr^2(b,a)*Pr^2(c,a)= 0.09"
      ]
    },
    {
      "cell_type": "markdown",
      "metadata": {
        "id": "xZSPWYySpQrm"
      },
      "source": [
        "**c.** ¿Cuál es la Pr{X35 = a|X33 = a}?"
      ]
    },
    {
      "cell_type": "markdown",
      "metadata": {
        "id": "ahXP3c-J0LCb"
      },
      "source": [
        " La Pr{X35 = a|X33 = a}=Pr^2(a,a)=0.49, esta probabilidad se obtuvo dado que de 33 a 35 solo hay dos pasos. \n",
        "\n",
        "**¿Eso es correcto? **"
      ]
    },
    {
      "cell_type": "markdown",
      "metadata": {
        "id": "4FVS4EWHztY7"
      },
      "source": [
        "**d.** ¿Cuál es la Pr{X200 = a|X0 = b}?"
      ]
    },
    {
      "cell_type": "markdown",
      "metadata": {
        "id": "ZYHNJUFwz5Ip"
      },
      "source": [
        "**NOTA:** Para calcular la probabilidad del inciso (d) debo utilizar esta propiedad ![imagen.png](data:image/png;base64,iVBORw0KGgoAAAANSUhEUgAAAogAAAC/CAYAAAB9qS2GAAAgAElEQVR4XuydZ0AUVxeGH8SGvfduNLEksSZGTSQaW+wKFlRQ7Ch2BFHsHXvHrmBBULHHJPqpscUajTU2sKERUVE6u353AY1lgVVAQM78SmTmlufcmX3n3HPOGF25cuUFcggBISAEhIAQEAJCQAgIgWgCRiIQZS0IASEgBISAEBACQkAIvE5ABKKsByEgBISAEBACQkAICIE3CIhAlAUhBISAEBACQkAICAEhIAJR1oAQEAJCQAgIASEgBIRAzATEgyirQwgIASEgBISAEBACQkA8iLIGhIAQEAJCQAgIASEgBMSDKGtACAgBISAEhIAQEAJCwEACssVsICg5TQgIASEgBISAEBACqYWACMTUYmmZpxAQAkJACAgBISAEDCQgAtFAUHKaEBACQkAICAEhIARSCwERiKnF0jJPISAEhIAQEAJCQAgYSEAEooGg5DQhIASEgBAQAkJACKQWAiIQU4ulZZ5CQAgIASEgBISAEDCQgAhEA0HJaUJACAgBISAEhIAQSC0ERCCmFkvLPIWAEBACQkAICAEhYCABEYgGgpLThIAQEAJCQAgIASGQWgiIQEwtlpZ5CgEhIASEgBAQAkLAQAIiEA0EJacJgfchoHlwCLddETSwNKWgsQFXah9xdK0XQT9aUq9IOgMukFPel0CY7wm2uu/mYkQein5eG7MmX5Etzfu2koLODzvGnPE3GDDeIgUN2rChah+dwctzPxdvPybz1y2waFWV/GkNu1bOEgJCwDACIhAN4yRnCQHDCQScxsX5DyoOsqVWLsMViPbpMeZPPkIVu4HUzm34dYYPzPAzw596c+7PPzmnqUSnxp8TJVk1PDiylvXn8tGsayNKZzC8PYPP1D7l1uU7PHvx+hVGpMmQjTz58pE7W3o+hIz24a+M6TEb/zazmNb5czK9MSAtGo2WF6/3aaT6NDaO7Eur0aB99UcjjNIaY4jmN3jOiXViyO+M7vcPY5fZvNbDpzVXbcAZFvYfxoEvRrPcoTbZEoultCsEUiEBEYip0Ogy5UQkoATOwalOnKg3kSHfZI21o+eHZ9Bt3BG+Gr6M4aY5I8VIyPklDPcoiuPoxuT9ECUU76lpuHfMAw/PLXgduU26+hPYPrYukVpQ+xCP/mbMOluADgvcsP0qETydWn+uHj3EtpXz2XzxOUY5y1OvTlkyPPPl6vkL3NYUolqDdlhbNaZs7HjfIPFshx3Npr9gyLbpNHtLRWgDLvO/bdvYuH4bfz/WYpS1PM0sO2Pesg6lMwdx/YAnqxavYK+PhjyVWtBniC2NE0Udx8d4zzk8oxvjjnzF8GXDMc2pFo8egZhi5xp+geV9huKVsxfbnVu+IXjvu9vSfk0hJmweQe3EeGmJj1nkWiGQggmIQEzBxpOhJz8CIecW0N+1IGOntqZgHAIvYN84Oo37kwr2q5jYOG+UZ0z7mN/GDuFk/dkMr510/hDtA3dszedw9cfXBKIaXuD1P9h3PQe1fvqS93COvrehHnsNouW0P6HmcHZMb0akFtQ84uRSRxxdz/OifDdmz7OmQkbDmo5sb34mRu6YSH2912h5uN2ejlMOE1y+N2sXW1LspZswwod1/fuwu4Q9zoPrUCBZbmUGsG9cJ8b9WQH7VRNprHu70OtBjFxkKW+u4WeYbzWErTm689vCN7fMo2ybGacdE/jJwPVg2KqRs4RA6iYgAjF1219mn6AEnvLryJ78UWcp4+sbJu4iwsNJky7dG9umwUenYL2xLLNmtKZAkngRlYTw38ygltO59JZATFBcsTQWstuehuP/gFqO7HRuSpaX54aeZmanAXjey0TdsZuY8NOrv8Q6NINEROAfTOgwnF0BFbBZvZBOxZVC1AZwcuEgZvu3x3lEfcPiST8WpHf6iSA8PA3p0kUvmhgFok7pp8C5asIIIz3p39rfN8i2SWYT6VgIpFwCIhBTru1k5IlMQON3hi1uXhz3CSDsjQC1lx0bYVKlC5Mtv478B63/duy7HKau2xQaG6YP9c8g6ADjLNz5bP48LIokTbRbrAIxIpBATWYyv76dFx5AQHg2sumC+7TBPPo3mEx5c2HycvjaUJ4+8CM8ewHyZIp7TjEKRO193Pu1Zc5fL/iy73pcOhaJYhj2nOcvspAlg4bnfo8hZx6yvNaNYSIijL/mdMbW/R7FLZewqndpfDyH43SwCqOndeTzlOadik0gKqn1qczVMNsm8sNCmhcCnyABEYifoFFlSvEnoPX/A2cbJ7beCoulMWPKdl3Bqh5lIs8J3j+WtutKMn+RJTrnk/5Dy+Mrf3Do7E3u3L7FHW0Veg1u+t92ZqTSVLF+AzpzopE705pkj/9kPqCFdwViML5/HWDPnt/Zd+gWX45yw666MQ9ObsFj+34O/XmV0gNcaHxnKWv2nuXqncekLdmKkTN7UfDYEha4H+Kfe348My5Jq1EzGfR9nliTTWIUiGHKg2jRH0/fHPw81Y1umY+we/dv7D38kG8dB5DJfSJrTz0id+tZrBtSTfmboo7HXgPVNmSWOLchI66voEfXZVzN04JRfbSsXZeB3jMG8l1i7qd/gH1eXaJCEq78cYizN+9w+9YdtFV6MbhpsagkmlgFIqSIuYbf5fTvRznv44PPbWO+6WdLw7fKAjxVW8zNZYs5PqtIrhUCegmIQJSFIQTeJqC2FQ8vX4rPl2Y0KXedWRbTeTHYHac66bmxshe9TtZj1bwOFE7zekZrBJddrBnia82mMabE5mzSRoTx/OISbJQH7GnjaXg61opKAnl1hHFsantmpBvJ2sFVXomcN4cZiM+p41z1j+CNhN9YrGmUxoQilWvyhQFi5x2BqJjcuXKNI6tHMfdQOprPcmdY9fRERARzZ91AOi++SO4qZlj37szPFXPwZO9Yuo3eB2V+4Kf21nStX5pMzw4ztbsDuzJZsnx5D8rGEsunXyA+55LrcAYtPo32axsWzmpBJu9L7F08ksUn0vJ5vVZ0aFqa2zt3crdSH4a3LE1UFyrmbmN/zJblYvS2cdSNzTgaXzwGdmTWqXDSFajFkNnjaV4svsk4iWkrLRHKe3pxiQ191z+l8TRPHGtFr6Y4BCKJMddAH04dv4p/hMGrkjQmRahc84sYYlojCH50ggV9hrH1RRvmqrVW+S1zPFcJSE1nGGO/U3nu30xPl2ebEBAC8SAgAjEe8OTST5SAyqT1/deEggVMCD0+lXaOD+i6cTotcjxQ25sd2VphHqv7Vogu/fKSQSj7x7TCJfcU1th+9dbf3uUUdmoG7QfupqzjZqa8sx8dwbVl3elztR1eUxuTWR9mrR+nvLZy2k9juEA0MqFM/Q6Ylog7y0L/FrMG71U96bzMn2bRAjHSUbXXiWZOB/hi8CbmmEUn2wT9gkPTcRypOJjNs83IExkWF8LvI5sx6lAVnHZOpbHeiUVN9qVA1BaoQuNapckY8QSf8yc5e1cJwZ86079faypEFjGM4JJLF3queUKDKRtx+l6PQlD2/G20Fc5PrVg5y4zCse5wa/HfPgxzVW7IqIY966e3iH82eSLbSu2vc2pGewbuLovj5tfCG+ISiEo4xzVXrd8xVi/ZT2ixohjd9SFNLWusaxeIscyP1u8UXltP46cxXCAamZShfgdTYlyWAWottZnABdMpeIyo/c7LV8T11fTuuYViI1cw8sdcH1QG6RN9ksm0hEC8CIhAjBc+ufjTJhDO2TmdGHChKWsWdaZYwA7szBeR1WkTo+q87YYKZKddczzKurCsx2fRnquY6Gi4saIHVqsyYrNhHh0Kva1YNNxZa4PV0Z/YMNc8/gLlA4wUk0D0WdOLTksevSkQ942i+cj9fD54sxKI0VvHofsZ3XwE//t8MFtmtyGqrGMoB8a1wPH3MgzaNAezWOr4vBKIX1oxpdvX6kc/HZmy5qVoqSLkyvB65k4EV5ZY0901lLZvl94JvsffJ0/x5749nAytQpdBVtTIG3v8o1bVsFw8eBzbfR7yNPxL+q5ZQMdX6cwfAPJjXKK5wYoeVqzKaMMG5dl+tZziEIhxzlXjzYYBgznTyIXJTfOC/6+M6rGJslPnY/lZfL2qhoMJOTQRc4cDVHTyZHJDfcG9Efj+sYyZKrs9+3c/U/e76lT7Im8MnnfD+5UzhUBqJyACMbWvAJl/zAQirrDEuheHv1/C8h5l0agfqtYjfbF0n0u7/G+nFweyw64Z7mUWsrLnF7ELRPXVFK8hZsx42I4lq3pT7h2HnoZbrn3o8udPuM9t+4kJxJZKIJZm4Ka5mBsgEN/JYn7HWrEIxOe3OHXkKIf3/Y8rmUzpaduWr3X1AWM6wr3ZMsKJP6qNoPPDsfRfe4eSXZaxoufncQj+pL2JtI+8GGI2g4ftdIk15f4ba2wC0YC5hp2ZSUc7td43O0fXjnzOHofWLMoxlg0O38UaRpFwRML5a7YFtl6FGOQxi9Z610wED46tYZ7rGdJ+9SM/1KhBza8LfaTxJdxMpSUhkNwIiEBMbhaR8SQbApobK+lh/QuV5+qKQhtxXcXNWe8ox3T3Yajwu7eOUP43uiULs6skiRjjBqMvCd7P2NZOnKrjjIdDjbfiD3XnRHBxURf637TAa9rP/5V4eb1HtW16dtdOzjx8jxhE40x8VrcNtYt8+BZz/D2IH1EgvuQVcYfNdt1ZktaGVVOb6y8dpET7oRnDcDXpo5KTqpH51hr6WC3mUj4z5rgNpsrLINGwx/hcucSV60EU+akuJZ6c5LcDPuSv24oaBWPgmsi20iVHtXY6RR1nDxxqvBbNGpNANGiuUWEO3X6txJy1A6kU6TAM58ICS2wO1Wbhmr5U0ONE1PqfZdfOMzx8jxhE40yfUbdNbfQuy4jr6uWsC6vS9sBN1abUl/wVccOVvmqLuajTchzrRBWcl0MICIH4ExCBGH+G0sKnSCD8DjtG2TD1Wl3mqcD4SunU9ujY5ow8XRfnjfbU0JxmrdcLzCyqRgu8KFFnd787m8bGnqQS/tdsOtruovTITWrLTN/nQMI4rpJUnNOOYO2Qqvq3yrTPuH7sMFcev0cMokpSKVrNlC8N+ERLjDGIaou58xI/tcW8MTJJRXeEvNcWs2ECMVjVQWykrw7iO2stFg/iq3Ojk1SW52HctjHUeedrG4FcWKmKYHs3Y9KohlFbtCqT3GtoB6b9aUKjSetVSEFUvUXt05v8sXwMo09UZ5p9Ka5efYbP1kVcUbUvl6tsdr0SMVFtpfOwdcR2V2lGbprMG8tJr0A0dK6hHJ5khuP1NioGsQslInfmo0IfLFYXYMz2sdTV89US7bPrHDt8hcfvEYOYxqQo1Uy/1Osp1z7wYEC7uTxuv4SV3QvxPCgrOd/6gPaz7UMjk1Qcdqm4VoOSVLSEBIWSLpNJyvhk4qf4fJU5pQgCIhBThJlkkB+VgBIH/5vSjzE77lGg/QLc+uuSTqIEouOvWkrW/pEST30pYjOd3l/99ysZqJI12rqXYWGsZW5UoodOZC3PqOrtzaWtvkrYysOzaaAFx+pvwLlZzo869ZedaX030E/9MP9TewzbJzXAJPIPukztrvRY40+jqZsZEf1ds8DdDjQbf4TyAzyY2y5/lAcn+Fccm47hj9J9WKuL34yqu8Jep2Y4HficAR76tulf9c5Dj/60mXWaF1/2ZcPCjrEklkR5tXqvD6LpTA/sv3nHtRvZaMy18kK4vmkUQ93zYL9yGDVeJc6oBA6vIbSedpz0NexYM71ltOcxjBPTLXAO+BmLenVpUjOIZV2HcrfLRoOLdieoQVWc4JpenVme0TYyHOGN5fSOQHyfuYZycFxLRt7qgKvLS8+d+gzjun60X5FLlQuK6Ys0CTo7Qg+Mo+XIU5g6L6H+vUNoTFtR/a0s/Li/kvP6mNQLxeq+2C67y7dOaxjfIFfCDlhaEwKfEAERiJ+QMWUqCUNA+2gTA1vP4FSGagxaMQuzyGLVqn6hKt3SedRv+Btlp5L1FKZafx31CbjoQ/twM4O7HqfhulgKZavtxm12Zjg/smCV2sIrrc/lFHyQcR3WUWruAjp99AQJLX5//8p299Ws3udDeI5KmFlb0FyVqXl6cBcb16zi4N0X5K7aHmvL5tQwPo37Mhc8/gogc8XW9O5uTqOij/jNYxlL3M/wOF0J6vdQgrjpFzw/4MGyJRs4/TgT5Zqr7ct2zahZIkp6vjoivDmwzout27dw7G44GOejWqtW1P/xZ36unPdNj4/KDj6704PVK9dx7P4LclYyo4t5Q/Xt5nLvlEzRJxA194+pT+otZu3v/xCYvSptu3akZYsaSswGcOXAHvbtWM/ao/fRGmXl84ZmtPi5Kc0qPWFpF1sOlHdkpn1d8v+rhHSXP2mwbgYtozJxPuqh9d+GnZkzjyxWsaz7y7I+0UN4TSC+/1wbUuqYPbbH6rD4VZxs9Lbz7i+ZuX4IVfVr8QSdf+ihCbR2+J0MXzfG0rY/Lb94a73EKv71DUW9oG0ZwdClPtRwdGFoEn7OMkFBSWNCIBEIiEBMBKjSZEonEMitUye5m6My35bO9lpMkyoWfeEsd9KXpVKZXO+WslHib6djL47XX8HYevq2jhWXYPWVFDMnrrVUyQ8q8UWfPgw5NpUu60oxa7Z5nN9zTumkP9b4E+prGxofFZvY5VeqLFxJ73LpeLrLgfbbv2Tp/I4kxUdvgpWHzczpGi2XqQLfbxeWjLPMTez0A/eNxnwqDN2qtpMjk/ZD+WN8ayYE9mPjlMZ8nBLuQfhef0C6wiXJE0P9yoSy7cdai9KPEEgpBEQgphRLyThTBIHAEzPo5/EZU6a04J1EZzUDXf3DDkPP02TpUqw/0yMP1Zcxfh87hOP1ZuHwQ3YJuE8gqyeMiFCxjJsGYbG7CktdrFRcXgiHJrRlWf7JjKqmIdNXX1Eg7q8IJtCMdM3o6h92YOj5Jixdas07yymeApGgE8zoOh0j+zUM1mXphJ1jXpdxPLNZiWPtGF6AEnB2hjZl6FdyDG1PzhMCQiCKgAhEWQlCICEJqPjB3yeM5kKTqQyoqgtoU7Fs+6YwcBVYzepHBlXUeRaDWelYG30V3UIvLmWYW34cxjfnrS+KJeQoU11bkXGSzmC3XW3/x1KgO3YwAfzi0FaVMlrA0m5qO1fFqnoObI9HpvZ0s+5Ig7IGZUjEj73yUu+bMpBVWDGrXwZcusyCwTrBpmc1xVcgqrUb8JcrU9Y95rvWNTA+4cXBjGbYd6tGbNWC4jfB971ai+8GFRe5Mi9jto3lRz2JM+/bopwvBISACERZA0IgUQho/Y8wb+YZatr1oXr2NMoRM5deY86ruLsi+PuWo9tQc8pFJcW+eQSeY9nkXyg1YCh1Dcg0TpTBf6KNah/swrHbPII6zce5fWk9pYU+bOIRzx4TlDEn2T5a3eggTsztxZjz5WheRH3xp1w3hpqX018KKd4CMZpJ6GPu3PJDk7sYxXMlMwUWdJEVgwayo4gjy0aYxvC5vg+zrVwlBFI7AfEgpvYVIPNPFALhd35jxc40NO9eL8oTGPZMfZnDhOyZY6qV94jDqzbyxLQrTUrF9rHgRBluqmg02Hs/61x/4bpxAUp++RPtmlTkrYopKYZD2LOnhJtkJ6blFDmR0MM4q/hEu2lWKWZehg5U++gUW7cc5Yr3fdJWbE7H1t9Q8CMkzRg6PjlPCHwKBEQgfgpWlDkIgfgS+JAC0O/0qbbT7/iSrlBhsn78hN74EpDrhYAQEAJC4DUCIhBlOQgBIfBhBaD1CMSHvy1ndx4LLCtHBfppA86xftoCflcla0wKfUe7PpbUKRTChW0uLN95mcfaLFRsN5T+DYq9mxUudhECQkAICIEkIyACMcnQS8dCIDkRSKAC0Cpx45DrRu5WaEubajm4vLAfq/I5MdmsIM/ObWa+yxG02cN5Wqg1A6zVp+q0Z5g9cAOlpkymeR5xOyanFSFjEQJCIHUTEIGYuu0vsxcCUQQiLrE4pgLQOZ9xYt1ifvMx7LvPGv9L/PXkW4Y69yD9qsHsrzmDoTVUgeNQb3YpIbj2ZkZq9x1Nr+q5SKN9gKf9VLSDp9O2oAhEWY5CQAgIgeRCQARicrGEjEMIJCGBhCoArX18DNcN/nxv/TOlVMKr5tYOxk/6hYiieYnwC6ZIMxt6VHvK1nmr+DM4J9lDb+NXqjsT+lTXW/YnCZFI10JACAiBVE1ABGKqNr9MXgjoCCRUAegIrnttwOd7C+q+/tm58Gc88AsjW/7cmLzmJIwIeMDDiGzky2Xy5if0xChCQAgIASGQ5AREICa5CWQAQiCpCSSDAtBJjUD6FwJCQAgIgTcIiECUBSEEhIAQEAJCQAgIASEgAlHWgBAQAkJACAgBISAEhEDMBMSDKKtDCAgBISAEhIAQEAJCQDyIsgaEgBAQAkJACAgBISAExIMoa0AICAEhIASEgBAQAkLAQAKyxWwgKDlNCAgBISAEhIAQEAKphYAIxNRiaZmnEBACQkAICAEhIAQMJCAC0UBQcpoQEAJCQAgIASEgBFILARGIqcXSMk8hIASEgBAQAkJACBhIQASigaDkNCEgBISAEBACQkAIpBYCIhBTi6VlnkJACAgBISAEhIAQMJCACEQDQclpQkAICAEhIASEgBBILQREIKYWS8s8hYAQEAJCQAgIASFgIAERiAaCktOEgBAQAkJACAgBIZBaCIhATC2WlnkKASEgBISAEBACQsBAAiIQDQQlpwkBISAEhIAQEAJCILUQEIGYWiwt8xQCQkAICAEhIASEgIEERCAaCEpOEwJCQAgIASEgBIRAaiEgAjG1WFrmKQSEgBAQAkJACAgBAwmIQDQQlJwmBISAEBACQkAICIHUQkAEYmqxtMxTCAgBISAEhIAQEAIGEhCBaCAoOU0ICAEhIASEgBAQAqmFgAjE1GJpmacQEAJCQAgIASEgBAwkkDACUaMh4sWLuLs0MsIo+F+uXfmHa9euc8u4MpZmlckc95VyRgohoHnumwLsG4LfjStcvnqNG96BFG/WkTqFjFMI4aQapobnvte48s81rl2/hXFlS8wqJ9adG4H/xf3sO3WXsHzVaVy/PDnTxDHvED9uXLnM1Ws38A4sTrOOddCZNMTvBlcuX+XaDW8CizejY51CiKWTag1Jv0JACKQkAvEXiBE3WNHDimXXTChQqiSFcpig/fcSZ32eka5ABaqUyETII2+uXHtIWBlrFo+rwaODrkxffISsHV1Y1ac86VISsU9grOEXltNnqBc5ey3GuWXhBJ1R8L3znNiXzO2recjFw0fwWjKdnQ9NGbd5PPUSQuuEX2B5n6F45ezFdueWCco16RsL5t75E+xznc7iI1np6LKKPuUT484N5erGkUy78CMjegUzy8IFk2HuTPo5J7FpRM3Dixw+4sWS6Tt5aDqOzePrqRdPDQ8vHuaI1xKm73yI6bjNjE8QQ8dhjU96HST9SpQRCAEh8HEIxFsgan3dGTTwDDVHOWJeIZt6iAfxv9FtGPlbMFUHuzPbLL/6t1CurxrI6Cc9WTmwMpo/JtDG8SQ/zNiI/TfpP85MpZdXBMLPzMdqyFZydF/KQosSCU4mJCXYN+I6y3t0wS3HYDxmtCJPXB4qQyiFn2G+1RC25ujObwstDLkihZ0Twh8T2uB48gdmbLQnMW7d8MvL6G13gaZKvLfKdYPdrkfJ3MiCH4qkjZNVxPXl9OjiRo7BHsxolSdaUEZwfXkPurjlYLDHDFoliKHjEoif+jqI0xRyghAQAp8AgXgLxKe7Z7MyqzX9a+vEoTrCTjCt3SC8/L6gt6sLliWiNnTCTixjdVgnetQy5uycTvTbVZYxCeW5SUJDhPzjievl6lg3L56itq40YWGQPn28x/zu/MNThH21Dz0ZaD6HoK6uuFiV+AAOIfzj6crl6tY0L/7apqUmjDDSk/5j72OG/IOn62WqWzfn9eHE59Z4x7bhZ5nTqR+7yo6J9tDFp3V91wawd1QHpob1w2NKY7K/V/NaHnoOxHxOEF3Vc8cq+rmD9iGeA82ZE9QVVxcrXv7zezX9IScn1Tr4kLG+1zUxrPv3akNOFgJCICUQiLdAjAgKRJMpMxmiZxtxcRFWvVy5VbwzLqv6UD76xV8b8IgnGXKTy/i62pJWnpucQ/Gc3oJcCeG5SRLSWp6eW8+40VvI77iOYdUT2ROqecD+OU7M/uUqj0Mi0OoJ+TQySk/OCp0ZN7cLXyfG7t8bnGOYv/LMpQT7Pvt1BG3GX6f5Alf6ffWesLRPObd+HKO35Mdx3TAS2/RxLW/t03OsHzeaLfkdWTesupKn8T302zbi+opID13OoZ5Mb5Er1i3fDxmB1n8nw9s5E9jTg7nmed+z/Wf8OqIN4683Z4FrP16Z9NmvjGgznuvNF+Da7ysJZ/kQw7y8Jpmt+/hMRa4VAkIgbgLxFohvdqHBZ01vOi2+RN42c9gwpOo7P1baB8pz024uod3XsbBTAfzPbMN9y0Gupv8Bm6Gt+Tzjmy2GPzjLnj3HeRD6lJs301Gnlw31i7/7g671v8If+w9z5vxlHpToxDjL6B+DsHO4jlrFnVq2DG1W8rUfiHAenN3DnuMPCH16k5vp6tDLpj5vNB16jxO7f+GMX1oyGvnzIKwC5tb1KRZ2kZ3LFrNq60l8NYX4tvkPVP7WHMsfCkYPXoP/pb3sOOjDi4wvuO/jR946lipAvkikkNY+/YdD+09w5cZNfMIq0m1IUzIcc2X5tmsUbmuPdbVsb0LQ+rFrUHsmnAiK06JGxaxY5daLMnp25MLvnub3o+fx8fHhtvE39LNtSMFoT5fW/y88V2zjWsZ85IwIIRwjijSwobWeODPts5jnn1j2ffUbZcA4Nf6X2LvjID4vMvLivg9+eetgqZIWirx8i1EhD0cnmzPsaA2mbHSkVkYtAdcPs+/oRa7f8CHNt7b0b1gwyqsYcg732dvwq9KF3g0KEVogUBEAACAASURBVHRxJ8sWr2LrSV80hb6l+Q+V+bblj2S58CfnFVef28Z808+Whi/BRg48tvUQgd/lY5w4949KsLiJtkofbBvlwffQRtZtP86/+ZrQf0BDiunbYdU+4+LOZSxetZWTvhoKfducHyp/i3nHH17ZNW4Wby21GG2bnwfKQ9dubijd1y2kUwF/zmxzZ8vBq6T/wYahrT/nzVvXgPvr5d1yax+rvc7x1PeUumfuUahOU6rmz0jZxt35uazuXo/9fopsJvQok82HcbTGFDY61no1ltCjkzEfdpQaUzbiWOv1EcbcZlrf0+zae4zzl26Ssa4DA+rlfiVWI27uwOveD5jV0t2jGu7smMq0Q/np7NiV6ia+nP796Fvr4MX72zf8IX/t2sTv17Rkz/iMf8NKUK9VfcrnzUKWzOljFM767+HuVAv4lf0nVQLPzQdkaziCIQ2ixHfIudWMWX6bGrbDaPmZ7rVCi/9fnqxQz6GM+XISERIORkUYOKAlz/Ste/OO/PBqneu3d8EnFzl2/BxXVEKYT4bvGdKrDpnuHcZzw3aOPy5P1+GWVMqi4dFpT1ZuPMK/xc2x61WbvCnWcRDnI1pOEAIphkDCCkS1nbN5cFumn8hEo8mejPrB5B0QAXuGYzbhNq1dFlP/5nI23ipM+aCdzPB6Tqu56xhU+aX4C+PWr7MYu/YJP48YSZtSt1nStTcHay3CrXc5/YADz7Oorw3r0nZX20mWUdtJEVeV56AvSzWdcF1sGbX9FnaLX2eNZe2Tnxkxsg2lbi+ha++D1Fq0it7lon6JQ25sx3nCVozbjWRwwxKku6G8J1ZryT54AzOaZODRv3/jaufAjnw2uNibkiNrHvJmVWNXCRBHloxh7rkKDB7fk2/ypOXZoYl0GnGWH6avYkj1TGpMoYQGnWBG5+EcrDSWxaYXWbH7L04f+Yf83VaxvGup1+an5clvoxm44jZZvmlD9QvTcbn0gkw/DGdd+zN07bODZ8af0WX5fNorBZQhQwaMY9rejAjm0YkF9Bm2lRdt5rJOxYNG0X7G/rEdGPu4G54zW5Hz6WGm2rhR1Hk+nYroaSwsgIcxzD9R7RvnOFVSwpEljJl7jgqDx9PzmzykfXaIiZ1GcPaH6WwcUj2Ka/h55lv2YWvxEWya0gjdT702/Dk+G+ywcnlAs1kbsIt2Cz7/3xjaOR2l8phNTPgpC2EBD/n3b1fsHHaQz8YFe9McZM2Tk7QBJ1jQZxhbX7Rh7rqBvFrGca6HDDz2OceBFeOZvi8dbecvVffFavYElCD7eReWHy1Mn/UL6ajPDmozO+Dhv/ztaofDjnzYuNhjmiMrefJmVXY1kMXbd1KMtg1mz3AzJtxujcvi+txcvpFbhcsTtHMGXs9bqTkP+m/OBtxfb3Qb7I/v4wBOzOvFtFOVGOIygG8zpiFzrgJkT2vA/RRp0vlY9tlK8RGbmNLo5QtWOOfnW9Jna3FGbJrCq3+O0yaZ0Pptx95iKpdNp+KpBGfku4XGB49BfdhdaR5LrEuTVieoDjljM+o0NWe70f8rI4Ifvb0ONO9lX+3TEywaNJJdWbowa1oHyqb3ZX3ftsy/UZgqzfsyse/3kev13SO2e1iNy3sXEwdO4Y/8vVmzsFPkczD8H3fs7Vx42moFS7qoMItn+xnbYSyPu3kys1VOnh6eio1bUdYv6hTDus+L7pEX2/O0W/67XD64lBHTD5DLagVza19g1Z6nFNIeZN6WAFrOXU3r+0tZf6sQ2S8tx+2vrxm5cyqNEyJpLMX8DMtAhUDyJJCwAjFyO2cs/3vxPU7qgdz4nSdZKEcmmWN/ohajBubjRkhdujYszG1dEPnqDPRev4COhXWCRMPd3aPpN92bH50X079KFiKur8GmhyeFndwY/aP+R6R65HFhgSW9t37GmK0qMzVan4YenkSfQ3VZaF+DjJq77B7dj+neP+K8uD9Vsqgg9jU29PAsjJPbaHRNa3x3M7rPLB62XqiExGeRIkpzZzcz5p+ilOVQzMpnRJecY9t+ARE9lSe0Y5Eob5NW/cjN7YvDb4UZtGwiTaPfrrWPNjGw1SxuN5vFFrtokRKwG4fWUwlq04OyJl9gaVmOwOu+pC1WmryvPF2RjSoPxDnuZixA2YLXGdnIjqMR6agyZBP2D3vRbuW/GBdoy2J3WyoYsFMa8IsDbSZcwHSKByNqR3tUNDdZ2cOSFWEdWLzChgrpFUfXdfibW/H9Wx7dl8tY7/yVZy5R7RvrOJUX8MRc+jr8RuFBy5jYNNoDqH3EpoGtmHW7GYe22EUOX+O9ml6dV5LRdgNz2xaI9shEr51tpRm9aQJKCyr0/uxybM/EP8sz1GNmdIKDFl/Fuv2CCHoqT9or4RbwCw5tJnDBdAoeI2pHebAMXg/BHBinErv++pFRtnm5l64JnWtn59gkM+wPVmH8ljGYvvuuFWUKrS/utu1ZENGTdQs7EqUjDWeh77Gk17ahR5hkbs+JWqMYmO8GIXW70rDw7chEn9UZerN+QUeibt247y+9j0L1Ire0uzWuJjZsmN8hskSN4fw0eK/uReeVGbHdMJe2BaLdTxpvVvfqzMqMtmyY25bIfzbUJkoMrundiWUmA9kyuw2502jw3eOM/eydBP40m/Uvd0fUeW5OGygxwp7aOlGjbx1gqH3DOTevE303ZqDz0hX0/EL3svqUrYOaM/12C+auH/yfCH8bYpz3cHSyzmpjeqz5LzY8YPtEFmYfjIN6mdfcXEkPyxWEdVjMCpsKpFfZ2K7r/Ols9X3kmtK77g2wd8Aue1pPvkmTsb3JeScjTTt9S6Cb2mlalZU+I6sSGFEbq5+y8oudGc53WrHAzfa/EIHk+bspoxICqYJAggrEECXE2trvIKDKEDzUQ/WdbYLwv5XgsmF7rga0qduGTm3Kk0l7n4392zPvSXuWrOqNzoGn8XFnQPf53Pp+vNoeNiWD9x5mOi3genUHpvarGWvG6bOddjSb4k8X1yV0iXQhhnJ28RT+qjcCqzJG+LgPoPv8W3w/3pVRphnw3jMTpwXXqe4wlX41Veaj8oLudrRi0j91cHazp4Zy+Ok7AnYroTXpLmZLV9Ir8kGu/HCHJ2PlsIdc3Zez2ErnYYg6IiK9j8v5t+EUdo7UPWzVqI5Noa3dcfLU+ZneDt2prhMkcRzhp0bys+0+QpTHsMfamWQY2ZI51yHzTxPZPrbOW1t8+hoL4dBEcxwOVMTJczINX+nsMP5e2BWbtff5vNs85luXj7MtffMn0e0byzifHWaylQN7cnVn+WIrSv8HP7IM0/J/G3J458jIH7qHmwdhPuspnVYuo/tn0Sdq7uBmY8GyDP3V2jWLXLsab1dsuizi4me9cVMe6ajkjwB2O7Rh0l0zlq7sRbTpCVFeYnOHA1R08mRyNFiD14PKfp5l0Z99RRvz87ct6NKuAiYR/7DUuhvr89rh6dw85lhd3YtGm0ncNVvKyl5fRK05g1kYvrbD/1YeOpvt5GrQhrptOtGmvPKy3d9I//bzeNJ+CauUVz+terGL8/6KaY0/3Y5dq2ncarkAt/5R4SEG89PtXAwyZ9bTTqxc1p2XJtU+3Mwg81k87bSSZd0/i2RjcJtK1O0d2Zwx11uyaE1fyj/5nRW/viDNwfGsyzuaHRPqRd4jGp9NLD5WiV7tou53fesAQ+2rS6gZ0IbZvi2VR3YwVXS7vs8PMt7Ckd/y9WBNrEk2cd/DEdfUeldJWZls1jGvQ2H1UhvI4WXupOtozTe6F5Cwv1nY1Ya19z+n27z5WKsX4f8OfeveEHtHZ74fLU3jVg1oZ9lU3Zv+bB1qxiz/mrRrakYns0pkDT7AOLORHP9uMp4jo1+w4nogyt+FgBBIVAIJKBCjs1fd7/FFbzcWW76b1avxXqM8Ny74VOjFwnmWlNH9CkT/wP3TaHZ0zGKgEjEdcNidBtNeXSn94AQX/bJRpWUnWtco9CoZJiYqYSem0W7wYWo4e2BfIz0RPpuZ81sJenevQuZAtd3YwYHdaUzp1bU0D05cxC9bFVp2ak2NQlFuO90Ye1su4ZHy9m1Q3j79Af+hHFaeUAdV7mPmhqFRSQrKk7OxvwVzLlXCbsMMWr6mjh/vHIb5pBOUG6gezOa6OMVoT4F7AN/Zr2JKM10poLiOCC5Obk737c9IU7QTK1aWZX7jEZzUGFOxnyeL2xvQRvhfzLawxavQIDxmtX5TwAccY1p3O7z+LU2X+YvpWTEG12HkMPXMP5pdYtsXveNU3o2N/bGYc4lKdioEoOVrCQ6PdzLMfBInyg3kf/PMdRIhKpnhSiPmvPwR1pnPf7s6bxp+HaLFhPIeHpg1gEmbvcllsYg1fStGbceHHlaeNAdO/jCTDUNfro9w/pptga1XIQZ5zKK1zvbvsR4iri6lu/UqfMt3Z8acrujQv/TiaXquZ0FH3Y+5/kPnHTd3UCWjZm5gaNRCfA8W+trUZ1vloVujPHQuPlTotZB5lmUiWUS9JPxDo9kbGFJV9W3A/RXzfeus7tvf+XLsFsbVVW9l78GP6ESUK43msG5wlVf3bFQi0hUazVnHYJ3aep821T0auT29rQxjtw7AaKUHxh06ETilGZOD+rJpjnqJeKG8pUv2U9iqI19FvkjqWQfqXw23bxinZnRg4LHa0Vv2oVxzG0SfFQE0mbSA/jWyx/6ciOseDj/HvM598Spqz2bnpmT13cnyP76ga9v/XmYDjk2ju50X/5buwvzFPSPXYtQtr2fdG2LvaHHsGVCZAS4zaVtCyeigfYxuPYoDOZXHcOnAyJfj8L9mY2G7k9KOKkTg3a2nuB6O8nchIAQSgUDCCcTounLLrxXHaskqekXH8v03ZrVVumUI5jOuUmf8OsZEbxOHHJqA2fCjfDvREyddzGLYUSaZ2bE7QwPsRnSi5uclyGMSt3x62U/UW/I6CozYwZR6D/ByOUyprp34Sm3/hB2dhJndbjI0sGNEp5p8XiIPbzf9fNcwmk34k0r225jVIoZCG9Gesh1lx7J5bF0ifxsCdmDXYhJ/fqG2s15uken+XQmNncPbM/n8N4xyHUcDXdp2NKuVj39m2rrh1IzBS/mGvTXXlPCxZNPjNOQzX8j6xnsw77KFx0Y5aDbbCwcDUmmj6sStIm0PfQJebUsedaa7ik98WLEvK+d3jLkkiL7567bCP4J9I7dP3xlnADvsWjDpzy/UFuN8Orz6KoqKEds5nPaTz/PNKFcmNMilc90yxdyOg1UnsGl0HV7u3AYfGIfZyL/4UcUfDq2WVulQN9b97ySbdnlTV71sDK8R9QIR5UnbQdmxmxmrEzK6I9qeq9L2wO1lnKvB6+EFd9f1w2LBLX4Yu46xP0WJgCjx5UvbFcpm+jKOokbD30rE2Owoy9jNY4kaznuw0PdA0WdblSS1ZYg5M67WYfy6MZFhGMpXxqEJZgw/+i0TPZ2IunXjvr/0P8NUsodrHzosTUs/9/m0K6gIGMxPVVlV3nhzu4NUnbCJ0XVeWjSUY1NUwsPBqkzYNJrIf36PNiMTUNba0MElvbonyvAgog1D1IvHiclmDLvcjGXLrTDeupijZbrTKUod6l8HunCZ97Cv9tkVts+Yzm8m31Epgw+X7majjnUPmpaLLiMW649AXPfwa3Us3fth7O5OUAtrvn/9Mae24I86d2fY1odU7LuS+R2jSkDpW/eG2FsnjrtZr+ZJ46msU7Gcul34sBO6l4FdFOrnxtx2upcfDTdX9sBydRYGuM/GLL/hz/tYccgfhYAQiBeBBBOIUR6POZzNo4L01w+J2h554whkr1Nrxpw1ZepGJYoi30yjvY47SzHScwI1Qv1Jn+kEo5tM4M/Kw/Ca1ZKcr9rQEhwcholJbJ4tJR8eqG0v8/kY2a7EMnAnd7/vTcvSUYMJVOKviRJ/lYd5Mavlfy2jDSY4zARd04+9BtJy2hmqOWxnRvPXYh21EUSoTaS0kVuPOk/oKrLbeTKtTjj+6fOT65EbNh0WcVc9CDc51n7l6Qy/upxePTaTa6ALU1tGxSpq7m3AtsMCHraYy9rBlQ0oSxKOt2sPrBb9Q4RRHtos2ERfvwH8NOov9WjNTtOZ6/nxoBKrEZVpP8SSqm/EML4EqOWBxwCVhfqY9ktW0r3Qc4Ky5sT4oDu/ljSjlW7/VInZX0ZYMP7olzjucKZJDNve+uaf1yRx7Ru4P5Zxmui2hzuw6G5jpm5ypPbL+YdfZXmvHmzONRCXqS0j4/PCLy5UZZg2UWiYB9MaBuF9Py+liqWJrt1YhtGbJ1A3+A9Wbgun0P3ZTDrwFaM8x1D5+WOyFczFPZ0nbVV27DynUSdcrdf8ecnwwIMBKjP/sdpqXdm9EM+DspItYJ1h60Ex1223Tb/ZkBkbVPHpyLFHi6+zPzFPiYsij56QvUCed0u0qBi7NSrGblV2tQ09rQ7h/unJn+uRwSz0PTn02la7F6fWYzirEjY2Dq8ZFX4QXRNxZ6mReE6oQajqO9OJ0XHeX/qfVoH8NrIV41SJmoVr+vGlLtfrjqH3UzgXF1rRa1MhhnlMo2GQN/fzlqJYmosstOrFpkLD8JjWkCDv++RKf5BBBt6junE+2z6EplP+JnvltkyZ2Z3y6SO4sqQrPXZVZIxDXs741KZfu7Kv7nWtnnWQM8uT97LvM5VZ7LTgIe2ch/JdTKHWbz9ZY7s33riH1QvT1qG0mRFKD7VeAu5/S4+Wup2eQPa7/0pJs1aRYRRa/18YYTGeo186ssO5CVnUUybSg/zWutfG+TzVieO+dFjkT+t5axlYSed3Vjshi5S9PAswdKMzLXLrvO3qBWSwGTOfqxjUxeZkfBhMAXWvySEEhEDSEkgggajetlVsn+Wc0/DDKLarzNB3ktB0BbTbDuZAlQl4jFKlDnTz1gWR9+zMchNb1thkYL93RSzqB7GkswpUD/yeEUvG0big2pIIe8BxT3fOFjLD2jSOb6kG7WLYz5O4XNKUpt0H0b3WfyUqdG/BnW02EPj9CJaMa0xU08fxdD9LITNrTJXnKfyCEhC91/G8/kTc1Dgjn9FB19m99jDZWymPZh5UuQ8ltOaE0m3lYPKcus9XZqYUDldbMG0d2P+lE5snNlAPVXUEX2b1EEcOVRzO1N7Vo+PI1EN6mx3mzj40ebn1FesaUMLOS22fTjutoqJU1Yl8bVnkMZDPD9hEC0T1b2nTYpw2C6XaTMGl71cxbMOHqkSIlow8ZYrzkvrcO6TBtFUVnqzux8z0I5gTmWgT5ZHqe+Abtf36WlbqG+NT49E3f01i2lfDjZWxjTNEbfm3xWH/lzhtnkiDKPhcXj0Ex0MVGT61N9UjC25quLdeJZgsDKe762TK/bmXFw3M+Sb7A9z7tWO+pidukypwcOVffGFdi78GdcM1az+WW2o4GlyPTip8dPOAdswJ7cbKwXk4df8rzEwLE6G8jy1HnsLUeQn17x1CY9qK6pmUJ9yQ9fD8d0aqxK7zdWfgbv9NlO1eevE+H8vKJg/ZF2JK++/zv7PNrCspNKDdHEK7rWRwnlPc/8oM08LhBrLQt+j02zbv6Wm0HXyAKhM8GFUnylumS/Tp2Xk5JrYqeSzDfrwrWlA/aEmc95fepR699bmr3AQ2v/Tqhhh4P2nusV4l6SwMV5ULJpfjz70vaGD+Ddnur1cvrAsJ7+7K5HJ/svdFA8y/usgUQ2wSPciQvSNpNuYCP05ejaP6EEBk/Kpa+23m3ubz5r0ZM6hRVGJO9BGqbx2k3/ce9g1in1NLnP4Hxb9rRJNGDWnwfQXyxlrYMq57403iEVeWYN3dk5CaXRg33oIvdG1rbrCy30zSj5gTlXQVuf76cuAbtWU/SFU60D5QsZHvrnttXM/TAirBRvfyc6cF89cOiKrNGpn805kVJv1V+SgzIp2FKv5wbOuRXPp5DpM+P8XhbG3oXEMEYtJKA+ldCChtceXKFT0llw1HE+Z9APdtv7Bn+0FuBKog7vzfYtHuRyrXaMB3Jf7z9kVcWkyXnp4UctjEtCbRexo6L0THfmx8Uozv29ti16WGyhZUD+EDsxg6cQvXwnJR6vOi5MhVlgadu9KkvAHbLCHqB7eVC8YDZuHUqMirRJHIGakg8AOzhjJxyzXCcpXi86I5yFW2AZ27NqF8tuhtDeXROeYykknu18lRoy5f59YQalwUU4sO1CygC0PXeT070m/jY4qr2oaD7DpSNWeU+PDdO53hcy7wWedu1M3jx9+qrl5EVQuVqV06ShBHHs/5XZXWGXuhnvIYDYv2GMXCW415TYcWLL6tOyc9FQe6sahtEYwebaN36ymcV6XKdEe6Up2Zu6gPX2eNqa1QtSXYGoffM/B1Y0ts+7fkC5Mwjk61ZMKpfDTq3JZqGS6xdcNZinYbQ59aLz9V9nZ7+uefuPaNe5wa371MHz6HC591plvdPPj9fZSLEVWx6NqQ0q/g6zwhfVQIxF1K1q5L6242NC+j9h4jY9M6MPusCUWrNaW/Y29q5bjCoi69cPMrzPcd7HG0rEw2TfR6fVycOpaDsOtYFZ3pQ1WYRGuH38nwdWMsbfvT8gvdfqZh6yFUbcvq6vR9M2kjI7+P3h5VcVszO/RnS1Ap6lrZY99OJXPpMWv4WfWD3m8jj4urOo+D7OhYNep7xYax0LdO9NlWy6XFXejpWQiHTdP479aN6vtJse9pb2tHlxrqRcyQ+0tPt9qHHsrr70Kmocqr2/SlZ98wfrqXzDV9rFhytyS167amm01zdCbVeUL7WC3hbsna1G3dDZvmZVQ4gYFtRo9RF9/ZdUt5pivv88uohZC9TrR1LaBKKfWlylsePn3r4L3sG3iNPa5bOR/4lKuHD/P3/WDSFayJtdMoOlWK6dkX973xBvKgX3E0W0uRyYuw+Tp6VamwnqmWEziVrxGd21Yjw6WtbDhblG5j+lBL92nCl8/pt9Z9nM/TwCjP84X6Kp57aLXInRKt3xYGm88kwHINS7uWjHzpiYr/ncLp3NVo1X2IqjdaTAqaG/4TLGcKgUQjEG+BGN+Rhfjdwc84H0VyvvmarHnuy81bAWQsXJIi2d/j2xCqxtlVldlbsmzeN8Xhq4FqeO57k1sBGSlcsggxNR3q78PNe89Jl7cEJfNnfjM4PPQR3nfCyF2iIFnfyh7QBj/EWxWkDctckOJFc78T4/ghvAKv7MZ12xVMKjWhVb0yvNSywTcPqhi587wo8yNNfixHrrjK3AT5cv1BOjXvPNFZysqb+eARWfPnINjXhzvPopnE1U4s8397fgljXwPHqUIFHnrfVAXNM1OweFFy64tdVdvC3t4BZCtWglyvbcVrnt7ixtMclCyW7dW6CXt8h3uhOShaIMsr713oI2/uhOWmRMGsr3n0gvC9/oB0aq3meSsC4kPXQ+ijWzx4oe4L1WDMEVmhPPK+Q1juEhR8dyHGzULfYjTYtiH43fHDOF8R3rx1Dbu/Xu865OA4lUzymB5uKrnrrfgzQ/iF+3vjHZCNYiVyveY9V6Ef3t4EZCtGidcNrRMkht6jz+9wK7ggxfL+d5NrVV+3KKra1Jc2FPM6eBv12/bV+h9l4aS9lBzoQBPdd6c1Adw45InL/DUcSdOa+W79Y/g6koH3RvQAwq+6MfOQShjpWuG/SgXqpfjBo6zkzxGMr88dnmUsTMki2d8QafrXva7R97f3u8tOwzNfX0KyFyJvJok//JDfCLlGCCQGgSQXiIkxKWlTCAiBlEJAZfTPtcTpiSolpEI6YnSAp5TpfNA4NdxytaHvDQs81Rb76yHEkclTkyIYsnUcdWMPv46758C/2bjuFtWtmlDyPd65425YzhACQuBTJCAC8VO0qsxJCCRnAhE31efwxnK6xhgm1Pdlho0rhcfMpdOr4pXJefCJMTYVVuNlh+X2CsxfZE10Tp3qKJybbgNx9GnLwuF1IsMZ3vcI8/4f7gdDqFS3OLf2nCNf67ZU/5CG3rdjOV8ICIEUT0AEYoo3oUxACKQwAirp4ZexfVkVVo+6WR8QUas3veoUiLHWYwqb3YcNN/wu/1s8gw038lCtRkXyGz/j4f27+GeohnnnurwWzv0e7avSUzuG03HqKbLV6Mhw9QGAKiIO34OfnCoEUjcBEYip2/4yeyGQRAS0BD1+wousucj88qs3STSSZNVtRBCPHz9DkyEbObOZJIBojiDweTgmWUwMKMafrEjIYISAEEhiAiIQk9gA0r0QEAJCQAgIASEgBJIbARGIyc0iMh4hIASEgBAQAkJACCQxARGISWwA6V4ICAEhIASEgBAQAsmNgAjE5GYRGY8QEAJCQAgIASEgBJKYgAjEJDaAdC8EhIAQEAJCQAgIgeRGQARicrOIjEcICAEhIASEgBAQAklMQARiEhtAuhcCQkAICAEhIASEQHIjIAIxuVlExiMEhIAQEAJCQAgIgSQmIAIxiQ0g3QsBISAEhIAQEAJCILkREIGY3Cwi4xECQkAICAEhIASEQBITEIGYxAaQ7oWAEBACQkAICAEhkNwIiEBMbhaR8QgBISAEhIAQEAJCIIkJiEBMYgNI90JACAgBISAEhIAQSG4ERCAmN4vIeISAEBACQkAICAEhkMQERCAmsQGkeyEgBISAEBACQkAIJDcCIhCTm0VkPEJACAgBISAEhIAQSGICIhCT2ADSvRAQAkJACAgBISAEkhsBEYjJzSIyHiEgBISAEBACQkAIJDEBEYhJbADpXggIASEgBISAEBACyY2ACMTkZhEZjxAQAkJACAgBISAEkpiACMQkNoB0LwSEgBAQAkJACAiB5EZABGJys4iMRwgIASEgBISAEBACSUxABGISG0C6FwJCQAgIASEgBIRAciMgAjG5WUTGIwSEgBAQAkJACAiBJCYgAjGJDSDdCwEhIASEgBAQAkIguREQgZjcLCLjEQJCIPEIhF/jN7f9+Gje7sIIozTGZMiSm6LlIZOWIQAAFyJJREFUqlK1fCGyGCfeMKRlISAEhEByJyACMblbSMYnBIRAAhIIJ+DOOTZNc2TZyWe80LVsUoF2w6yoauTD/nWr2f3Pc9Lm+YrmtsOxrV+c9AnYuzQlBISAEEgpBEQgphRLyTiFgBBIIAJa/LcMoqXzCSJUi2kKtGH2hiFUU0pQc3M1vbq4cDFc/SFdaTovWE6fiiIREwi8NCMEhEAKIiACMQUZS4YqBIRAwhAI2W1Pw/F/oNOBrwtEwk7g3G4QWx5o1V+MKdZhARtsv0qYTqUVISAEhEAKIiACMQUZS4YqBISAPgIaHuybxrAZv+P9LBzti8iN4zcPIyPS523MzA3D+TodxCgQwy+y0KoXbt66IEUjcjd1ZrtjzY+MXYPfqdVMcfbgtG8gEdoXUVvhrx9qPmlNitBo0mrsq6oJySEEhIAQSGACIhATGKg0JwSEwMckoMVvpy1tJ54hJK5uszdn9XYHyqSNRSAGH2BcG0d+eaIkmVEWfhixgSk/54qr5QT8u9r+PjAOS8df8dejc9/sKBctVnhh/4WakBxCQAgIgQQmIAIxgYFKc0JACHw8AtonexjRcxE+ZTow4OvfsJt9kRfl7dkyqwQu5n3YGZCHtivd6FE0LekyZCJ9dGayfg/icy6ucWCQy2mevTAm3w9DmDW+JSVjdNAF4nPqOFf9I9718MWAwCiNCUUq1+SLXGn0nqEN+IMFTss49LQ0rX98xtJlRwlKUx57j/7cse3NhtsvyNNuBat7FCVD2gxkeDmhj4dcehICQiCVEBCBmEoMLdMUAp8iAa3fRY7czETV6gU5PagBdn9GUKzvVtxMN2Nmvop/M9dn0a6xkdvKrx+vC0QyFKBcxUKkeXyPB8/Tk7dkeb5tYIZZg/Lkiq3UjdaPU15bOe2nMVwgGplQpn4HTEvo9/pp/e9y+fYjMpX9nH9ntWTwrqdQvB+bp6XBof0CLmsz03Dhdka/PaFP0bgyJyEgBJKUgAjEJMUvnQsBIZAgBMJP4djIlv3BuWm/1ovOxy1pOucmxl+P49dFP5HxrU5ijEFMkMEkQCPhZ5lpZsPmh5C3gxtLS86hzdTjhKepzLg9C/jp7QklQJfShBAQAkLgdQIiEGU9CAEhkOIJRFycSJPuO3mWrRnLdwzm/sD6jDgdQYGum/DsUZC3N3STu0CMuLIYC2s37rzITovlHtTyaI79niAobI3nhu4U1L9DneLtKBMQAkIg+RAQgZh8bCEjEQJC4IMIaLg2vRmWm5+Qqd4Cdo/OzMxmXdj6ND3fTf+VGTXfrWOYIAJR68/ZXTs58/A9YhCNM/FZ3TbULhJbYomGG8s7Y7nSG22mn1iw1YqT1pas9nlBhlrT2e1cU4p3f9A6kYuEgBB4HwIiEN+HlpwrBIRAsiMQ7r2KLp2XcFNjguncX5j05QF61xvFOW16vpm6h0lpZzBghRHd5g+nRoao4QfvHkaj8Yei6yC2YtYGO6q/bz1s7TOuHzvMlcfvEYOoklSKVjPly7wxuwDD72xlSJepnFQOw8w/zmXXqEDGNxrO76GQscZUNne6xsL1f5O2zWSGvZyQmkngcw0mWTK+4y1NdgaTAQkBIZAiCIhATBFmkkEKASGgj4D2wRb6tHfmbyWeMKnL/F8mUEX7e7RAVP9mnIF0Rlqy1p3JpjFVidKHGrxX9aTzkkvqv9SRpQ6jPCfTKFvSM9Y+3MsoKyf2PYkcGPXm72R8hSOMihaIuuLd6dKnJW3OH5m2YRRVIycUweVlPeiz2o+aI1YwsVHepJ+IjEAICIEUT0AEYoo3oUxACKRWAloerm5HC5e7CoARhbqsx71nMYy1j9jaoyVTL0XKP4xyNWT6+tF8l1X9jyqEvWXGMjbu/ROfwJeFBo3JXe576rbqim3TMiRdVUEtjzxtaD7zXGRWdJqi1qxb151iRo/5zdGc0QeVS1F3pMlHU2dXHCMnFCUQb260o//yG2Sq0w93x/qpdUHIvIWAEEhAAiIQExCmNCUEhMBHJhB4Ba8lG7iSrzm9OlQmx8ud2+Cb/O7myd+ZvseibQ3yp5SPjQTe4vDWrRx9VJD6nVvz9csJBftyes8ujjzIQY2Wzammb0IR15Wg9MHCsu5HNoJ0JwSEwKdIQATip2hVmZMQEAKpjoDWfw+u+z7HyqxEqpu7TFgICIGEJyACMeGZSotCQAgIgY9M4Dmn1Rdj/Jr2pEEsCTAfeVDSnRAQAimYgAjEFGw8GboQEAJCQEdA4/0rnje+xKxuQZXGIocQEAJCIP4ERCDGn6G0IASEgBAQAkJACAiBT4qACMRPypwyGSEgBISAEBACQkAIxJ+ACMT4M5QWhIAQEAJCQAgIASHwSREQgfhJmVMmIwSEgBAQAkJACAiB+BMQgRh/htKCEBACQkAICAEhIAQ+KQIiED8pc8pkhIAQEAJCQAgIASEQfwIiEOPPUFoQAkJACAgBISAEhMAnRUAE4idlTpmMEBACQkAICAEhIATiT0AEYvwZSgtCIFUSCL68i7X772KcOStZMmcgrdH7Y0iTvzKNa5Yg/ftfKlcIASEgBIRAIhIQgZiIcKVpIfBJEwi/iYedDbOPP+VF9ESNTbKSKW3Ms9aGBRMcGoE2+pS01QazebYZedJ80qRkckJACAiBFEdABGKKM5kMWAgkHwLah3sZ12sMv97XRA4qU/luzJ3XjfImMY8x1P8mZ/dvxMVlG/+UsGHDwo4Ulu/DJR+jykiEgBAQAoqACERZBkJACMSLwLOTc+kzdAM3wnTNpKVYq6ksGvIdOWP1Cmp5uNsRa4+yzF5iTelYvI7xGhwaHhxyY1dEAyxNY/pOsZZHR9fiFfQjlvWKkC5+HcrVQkAICIFPgoAIxE/CjDIJIZCUBEL5x3UQ/Rb/xXPdXnOaPJiOcGF845gEWfRYgw4yyf4iLWf1pnwiCcSA0y44/1GRQba1yBWbYNU+5dj8yRypYsfA2rlJPjveGgKuHuNqhm+pWiyRICXl0pG+hYAQSLYERCAmW9PIwIRACiKgucfOEb2ZfNAvMr7QKEtlbBbOouNnsaWfhON/z5+MhfKTKRGmqn16kKlOJ6g3cQjfZH2rg/ALLO8zFK+cvdju3DLqjyHnWTLcg6KOo2mcN6klopaA6//DfeVqPA88oMb4bYw1zZAIlKRJISAEhIB+AiIQZWUIASGQIAS0/odx7jOcrbcjIttL/5kFsxb2o3KWBGn+PRsJ4dyC/rgWHMvU1gXf9QiGn2G+1RC25ujObwstotvW8vi3sQw5WZ/Zw2uT7T17TMjTA28e4887Wvz3ODP7f0FK5IpATEi+0pYQEAJxExCBGDcjOUMICAEDCQSfX0q/gSu5FKS7wJiCjcaxeOSPfHSH3NNfGdnzD+osHU/9mJSeJowwVWAn/esJMsFHmWK9kbKzZtC6QFJ7ETXcce1Dh8U+1BWBaOAKlNOEgBBIKAIiEBOKpLQjBISAIhCB9yY7bGb+yRNdPKJRDmoMWci01iVU+sqHHhr8zmzBzes4PgFhvHhZU+f15oxMqNJlHJZf61JMlOdtuz1dDtfFbUrj9/QEBnFgnAXun81nnkURJXGT8lAC0c2GDou8RSAmpRmkbyGQSgmIQEylhpdpC4FEI6B9yL4JvRn9i6/KIVZHpnJ0nTOfHhViqX0T42CU2PvDGRunrdyKzJKO4TAuS9cVy+hRRidDg9k/ti3rSs5nkWXxN0Ve+F1O/36U8z4++Nw25pt+tjQs+LoMVNnVHgPofKIR7tOakD3RIBnSsAhEQyjJOUJACCQOARGIicNVWhUCqZvA89PMtxnMumtRqi5tsZZMWTSUmrHXvnmHmTbgMMuX+vClWRPKXZ+FxfQXDHZ3ok76G6zs1YuT9VYxr0Nh0hgZkdY4WuhFXMbFegi+1psYY5rxrTYjCH50ggV9hrH1RRvmrhtI5bfq2oQdm0r7GekYuXYwVWL9xEsgPqeOc9U/4lWh8LiMbpTGhCKVa/JFrCnVL1sRgRgXT/m7EBACiUdABGLisZWWhUCqJhB2bS2DbBZyJqr2DXlMR+AyvjFvOOziIKT19+Vfk4IUMAnl+NR2OD7oysbpLcjxwJ1+HbdSYd5q+lZ4S+GF7mdMKxdyT1mD7Vd6qhoG/IJDmwlcMJ2Cx4javCMhry2je5+rtPOaSuPMsQxQ68cpr62c9tMYLhDVVniZ+h0wLWHIhrsIxFR9A8nkhUASExCBmMQGkO6FwKdLQIPvbid6TdyPn6p9k65Ya6YsGcx32T4g+SP8LHM6DeBC0zUs6lyMgB12mC/KitOmUdR5W+EF7sSuuQdlXdSW82fvCrGQQxMxdzhARSdPJjd8N4NFc2ctNlZH+WnDXMw/enbN66vh/+3deVQV1x0H8C+KMXq0qAlVU+qGGrTuQsOxRojG5FQjEoJiqSKiaI1srlAREXBhUbEPwQSMuCAVCUl6BE0MxtiidQmuRwI0qFERcWFTWd8bOhhD8bGU93hm5sGXv9/M/d3PHT3fc2fuvQyIrfffBntGAfkLMCDKf4xYIQX0V0D5H+x0nY/d98bCUxGCGaZNvrNttJ/KrGi4LDqJN6M/getgFdI22GFNnhMSFA7oqZ43nyRj5bQEDIqKxUIz9YBYhYvbHOH+xWtYmhgOuwYCoOrmPix2PoO3ExSYyYCov88eK6cABVokwIDYIj5eTAEKNCoglCB9hye8PxMwPViBJRZGWp5QosK1WFe4fDkaijh3jDDIwSeuLkgeshkJqyzEjWrU/iqOw982CkYb9mOZ+keEypprnbHb0BVxHzmhbwPLlJUZO+DscR2OX4RiSlN7OAoFuHQ4BRfua/ANYvvOGDjxA4w34Stm/suhAAXkLcCAKO/xYXUU0FOBSuR86gMPxTWM8tmOgCkmWm9zU3U7GWs/DMEPEyMQ7zUKHSpOIMBmDc5PDMNBb0uozovnKFfbw3Hss5NGlBnY4bwSdxckiaePPP/+WchPhKeDAoWzohG74DU8Lu2K7mqvvCvPiotUwgzhu385xjY14Sk8Qs7pk8gq1OAbRHGRym/NrTG8WTOT2rxiFlBeWoEOnTtJvEWPnj62LJsCFKgVYEDkw0ABCuhYQNwq5ttguK37Ft2ctiLcZZjWR+kJ948j2G0dku/0wqzIOHjULDp5GhBX46jQH+Pf6ofiPBN8uPkvGFF7Et0THPObiYRBUfW2uak4EQjbNemwDovG5DtpUFm/D4vnVhQLeJjkBcfTk3EgbBq661hGs9spkfmxM1z35MMq6BDWT1L/2FL9bkpk7VkC9525eMNvL4Le6aFZc/w1BShAgToCDIh8HChAAZ0KPL4cg2Ur9qPYOgDbfaxacIrKT2HNbks6Opovxa5we5jUvBIWCnEsYA7Wfl0AA6NRcAkOgcvIuoctiwH1s2WYd/ZdxKttlF2Rth52PqnoOPKPcHL3gK2Z+t6MZfhn4J8QP0CByNl9JJuFU+VdRGpaGo7EJeDs/Wp0H2UPZ5vfY/Q4SwxsdJGPCjc+98UKcVsgy9UfY8V4KQ8L1OkjxZtRgAISCDAgSoDOJinQWgWqbh6Cn1sorgxwg0Lclsa0dlaviR6L3yrmXMpF95FDUG97wCc3kf5dLrqNfgOmdYNRWR6uXrqNlwaPwqAe9beyEQpSsHrRWUzeFYBJdbMjSpGXk48Ov+mPVxuakCs/jRDneAwI34YZvbVYbd1aB5b9ogAF2pwAA2KbG3J2mAIvRkAoOIVwd1+ktLdFSIQ7LIyaF7BU1/fCI7Iz1oXat2C2Ub1PT3BuixsSBwYjeHrPZi6OEVCYGoDlZych3GcCmln+i8HkXSlAAQpILMCAKPEAsHkKtAqBskzsW+mF6Ftj4BMZiKnNWqVb87o4H0f9FyO+T7C4Hc5grReyNGQoPEzFev+rmBriibFNbXj988UVGYhZFYeePkGw0WQ371YxgOwEBShAgecFGBD5RFCAAi0TUOXhq8AlWP+vLrAL2Ainoc04c7m6Co/v5eDcP3Yi+vB9WG1Kgu/45ryP1qRU8RznUxHYemEcVi62+D8zgk9weecmfDnAEysmGjdzxlGTWvhbClCAAvolwICoX+PFaikgLwHx+8HvojzgHZ+NMm0rMxwNz8QIONTb8VrbG9a9rgq3v96FlHY2WDCpdyOLTsTFMCd342CRNeZNHVDv6D1dVMF7UIACFNA3AQZEfRsx1ksB2QhUICdR3Otw2xkU1hy3rOVfu1dtsFncM9FSu0NWtGyVl1GAAhSgQFMCDIh8PihAAa0EHl3ejcCtx/HAoHmLUeo1oipDQf5dFPWdj3075qBPA6eaaFUYL6IABShAgRYLMCC2mJA3oAAFtBdQoaJchY4vc/pQe0NeSQEKUED3AgyIujflHSlAAQpQgAIUoIBeCzAg6vXwsXgKUIACFKAABSigewEGRN2b8o4UaAMCAorPJ2Bv1uuY6zAGjZ7+pi4hPEDGsSP46t8/oKi6I7oZ90AnAyXKigtRVNYBIxyW44Oh9U9GaQOg7CIFKEABWQkwIMpqOFgMBfRFQIUfk3zhe8YcGzbZo68mC0wqzyF05jJ8M9wfiUFv4+lJeEIxTiv+hmxbXzj10+Rm+uLFOilAAQrolwADon6NF6ulgIwFVCi4cggHDmegRACqYSDWaoD2PcdhztwJ+PlwEtWNPVg4Zx9e8U5E6Hvdn/VHnJG8eBH5vxuDwZxAlPEYszQKUKCtCDAgtpWRZj8poCsBVQluZ2Yh+9otGA6zwYT+huKdVbhzNBxRV80we/4UmDX6zllA/qdecNgOuCVsg724OXb51VO40ssSFq9ouV2OrvrF+1CAAhSgQK0AAyIfBgpQQDMB1WPkpUXCy/8apsVFYbZJewgPjiAsWsBcn6no1WTOK8ERHztszDbHgnnj0PVRLtIvv4Q/B80HPz3UbBj4awpQgAIvUoAB8UXq8t4UaKUChckr4ZAwEIrYRTATJxBLjgQjposXlr/5ctM9Lj2BAPs1+H6CH1ZPMUZpbio+z5qIIK+x4E6IrfRhYbcoQAG9FGBA1MthY9EUkFKgFMfXzUBk10DEL68JduLr5b97w/d8NwzsVvPdYd0/A7T79R/g7GL19BvEynNhmLXsFCy3JmCVhRgJS9Jx+sdhsBzeUcoOsW0KUIACFFD/3zsrK6sFp6jSkwIUaHMC4irksFmBKPM8iLVWnZ52v/xUOLbcc8RfbXui8TfMVciImotFhwYhMCkAb3X+n5xQkoXMIlMM7VPzPSP/KEABClBAagHOIEo9AmyfAnomoMyOwXz3HMyMmQOTKlOMNBVfK1dmYs+GFPRzWwor40Yiouo6Yhc6Ya/RCiRtno4ez34mFF/G/tBkGHn5wKaxa/XMiOVSgAIU0HcBBkR9H0HWT4FfWKDyXChm+WXDfN4CzLO3rN2+Rpn7DbZHpMJw3Pt418IM/Xt3Re18oOouLhyMwMao47hrbI73Jg3Br6rLUXTvBjLSL+HB6NU4sP4dGP3CfWFzFKAABSjQsAADIp8MClBAQ4EyFNyvRBdjo/oLS5QP8f3JNKRn5uDWwzII1c9/g6hhQ/w5BShAAQpIJMCAKBE8m6UABShAAQpQgAJyFWBAlOvIsC4KUIACFKAABSggkQADokTwbJYCFKAABShAAQrIVYABUa4jw7ooQAEKUIACFKCARAIMiBLBs1kKUIACFKAABSggVwEGRLmODOuiAAUoQAEKUIACEgkwIEoEz2YpQAEKUIACFKCAXAUYEOU6MqyLAhSgAAUoQAEKSCTAgCgRPJulAAUoQAEKUIACchVgQJTryLAuClCAAhSgAAUoIJEAA6JE8GyWAhSgAAUoQAEKyFWAAVGuI8O6KEABClCAAhSggEQCDIgSwbNZClCAAhSgAAUoIFcBBkS5jgzrogAFKEABClCAAhIJ/BciaDfwZOQmvAAAAABJRU5ErkJggg==)\n",
        "\n",
        "\n",
        "\n",
        "¿o como puedo abordar esta parte? se sabe que coienza en el estado b, y después de 200 pasos queda en el estado a."
      ]
    }
  ],
  "metadata": {
    "colab": {
      "collapsed_sections": [],
      "name": "Cadenas de Markov ejercicios.ipynb",
      "provenance": [],
      "include_colab_link": true
    },
    "kernelspec": {
      "display_name": "Python 3",
      "name": "python3"
    },
    "language_info": {
      "name": "python"
    }
  },
  "nbformat": 4,
  "nbformat_minor": 0
}